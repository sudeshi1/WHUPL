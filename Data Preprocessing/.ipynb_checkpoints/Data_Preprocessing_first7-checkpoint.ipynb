{
 "cells": [
  {
   "cell_type": "code",
   "execution_count": 41,
   "id": "abc97c39",
   "metadata": {},
   "outputs": [],
   "source": [
    "import pandas as pd\n",
    "from sklearn.model_selection import train_test_split\n",
    "from sklearn.preprocessing import StandardScaler, MinMaxScaler, LabelEncoder\n",
    "import numpy as np\n"
   ]
  },
  {
   "cell_type": "code",
   "execution_count": 42,
   "id": "67904155",
   "metadata": {},
   "outputs": [],
   "source": [
    "xls = pd.ExcelFile('Resources/Car_Data.xlsx')\n",
    "df1 = pd.read_excel(xls, 'Volkswagon')\n",
    "df2 = pd.read_excel(xls, 'Toyota')\n",
    "df3 = pd.read_excel(xls, 'Porsche')\n",
    "df4 = pd.read_excel(xls, 'Mercedes')\n",
    "df5 = pd.read_excel(xls, 'Maserati')\n",
    "df6 = pd.read_excel(xls, 'Lincoln')\n",
    "df7 = pd.read_excel(xls, 'Lexus')\n",
    "# df8 = pd.read_excel(xls, 'Kia')\n",
    "# df9 = pd.read_excel(xls, 'Landrover')\n",
    "# df10 = pd.read_excel(xls, 'Volkswagon')\n",
    "# df11 = pd.read_excel(xls, 'Honda')\n",
    "# df12 = pd.read_excel(xls, 'Hyundai')\n",
    "# df13 = pd.read_excel(xls, 'Acura')\n",
    "# df14 = pd.read_excel(xls, 'Audi')\n",
    "# df15 = pd.read_excel(xls, 'BMW')\n"
   ]
  },
  {
   "cell_type": "code",
   "execution_count": 3,
   "id": "a148fa1b",
   "metadata": {},
   "outputs": [],
   "source": [
    "# df_list = [df1, df2, df3, df4, df5, df6, df7]\n",
    "\n",
    "\n"
   ]
  },
  {
   "cell_type": "code",
   "execution_count": 43,
   "id": "9ab86d77",
   "metadata": {
    "pycharm": {
     "name": "#%%\n"
    }
   },
   "outputs": [],
   "source": [
    "def clean_data(df):\n",
    "    new_df = df.dropna(how='any')\n",
    "    new_df['formatted_sold_date'] = pd.to_datetime(new_df['sold_date'], format='%Y-%m-%d-%H.%M.%S.%f')\n",
    "    cc_df = new_df.drop(columns=['sold_date'])\n",
    "    cc_df['condition_grade'] = cc_df['condition_grade'].replace(\n",
    "    {'SL': 0, 'RG': 20, 'PR': 10, 'EC':50, 'CL':40, 'C': 40, 'AV':30, 'A': 30})\n",
    "\n",
    "    return cc_df\n"
   ]
  },
  {
   "cell_type": "code",
   "execution_count": 44,
   "id": "a4a00b86",
   "metadata": {
    "pycharm": {
     "name": "#%%\n"
    }
   },
   "outputs": [
    {
     "name": "stderr",
     "output_type": "stream",
     "text": [
      "/var/folders/yg/fw1cq33d4rsfsxc74d4p2mrc0000gn/T/ipykernel_28822/2647848785.py:3: SettingWithCopyWarning: \n",
      "A value is trying to be set on a copy of a slice from a DataFrame.\n",
      "Try using .loc[row_indexer,col_indexer] = value instead\n",
      "\n",
      "See the caveats in the documentation: https://pandas.pydata.org/pandas-docs/stable/user_guide/indexing.html#returning-a-view-versus-a-copy\n",
      "  new_df['formatted_sold_date'] = pd.to_datetime(new_df['sold_date'], format='%Y-%m-%d-%H.%M.%S.%f')\n"
     ]
    }
   ],
   "source": [
    "clean_df1 = clean_data(df1)\n",
    "clean_df2 = clean_data(df2)\n",
    "clean_df3 = clean_data(df3)\n",
    "clean_df4 = clean_data(df4)\n",
    "clean_df5 = clean_data(df5)\n",
    "clean_df6 = clean_data(df6)\n",
    "clean_df7 = clean_data(df7)\n",
    "# for df in df_list:\n",
    "#     clean_data(df)"
   ]
  },
  {
   "cell_type": "markdown",
   "id": "6260d30c",
   "metadata": {},
   "source": []
  },
  {
   "cell_type": "code",
   "execution_count": 19,
   "id": "956ab8a3",
   "metadata": {
    "pycharm": {
     "name": "#%%\n"
    }
   },
   "outputs": [
    {
     "data": {
      "text/html": [
       "<div>\n",
       "<style scoped>\n",
       "    .dataframe tbody tr th:only-of-type {\n",
       "        vertical-align: middle;\n",
       "    }\n",
       "\n",
       "    .dataframe tbody tr th {\n",
       "        vertical-align: top;\n",
       "    }\n",
       "\n",
       "    .dataframe thead th {\n",
       "        text-align: right;\n",
       "    }\n",
       "</style>\n",
       "<table border=\"1\" class=\"dataframe\">\n",
       "  <thead>\n",
       "    <tr style=\"text-align: right;\">\n",
       "      <th></th>\n",
       "      <th>auction_code</th>\n",
       "      <th>car_year</th>\n",
       "      <th>color</th>\n",
       "      <th>make</th>\n",
       "      <th>model</th>\n",
       "      <th>subseries</th>\n",
       "      <th>body</th>\n",
       "      <th>engine</th>\n",
       "      <th>transmission</th>\n",
       "      <th>mileage</th>\n",
       "      <th>condition_grade</th>\n",
       "      <th>times_run</th>\n",
       "      <th>seller</th>\n",
       "      <th>sale_price</th>\n",
       "      <th>formatted_sold_date</th>\n",
       "    </tr>\n",
       "  </thead>\n",
       "  <tbody>\n",
       "    <tr>\n",
       "      <th>1</th>\n",
       "      <td>AYCA</td>\n",
       "      <td>2009</td>\n",
       "      <td>BLACK</td>\n",
       "      <td>VOLKSWAGEN</td>\n",
       "      <td>TIGUAN AWD</td>\n",
       "      <td>SEL</td>\n",
       "      <td>SUV</td>\n",
       "      <td>4GT</td>\n",
       "      <td>A</td>\n",
       "      <td>96696.0</td>\n",
       "      <td>34</td>\n",
       "      <td>1.0</td>\n",
       "      <td>5177137.0</td>\n",
       "      <td>7100.0</td>\n",
       "      <td>2017-01-02</td>\n",
       "    </tr>\n",
       "    <tr>\n",
       "      <th>2</th>\n",
       "      <td>AYCA</td>\n",
       "      <td>2009</td>\n",
       "      <td>SILVER</td>\n",
       "      <td>VOLKSWAGEN</td>\n",
       "      <td>ROUTAN</td>\n",
       "      <td>SE</td>\n",
       "      <td>VAN</td>\n",
       "      <td>6G</td>\n",
       "      <td>A</td>\n",
       "      <td>92321.0</td>\n",
       "      <td>31</td>\n",
       "      <td>1.0</td>\n",
       "      <td>4925422.0</td>\n",
       "      <td>5800.0</td>\n",
       "      <td>2017-01-02</td>\n",
       "    </tr>\n",
       "    <tr>\n",
       "      <th>3</th>\n",
       "      <td>AYCA</td>\n",
       "      <td>2014</td>\n",
       "      <td>TAN</td>\n",
       "      <td>VOLKSWAGEN</td>\n",
       "      <td>JETTA 4C</td>\n",
       "      <td>SE</td>\n",
       "      <td>4DSN</td>\n",
       "      <td>4GT</td>\n",
       "      <td>A</td>\n",
       "      <td>70568.0</td>\n",
       "      <td>27</td>\n",
       "      <td>1.0</td>\n",
       "      <td>4925422.0</td>\n",
       "      <td>4500.0</td>\n",
       "      <td>2017-01-02</td>\n",
       "    </tr>\n",
       "    <tr>\n",
       "      <th>6</th>\n",
       "      <td>NADE</td>\n",
       "      <td>2012</td>\n",
       "      <td>BLACK</td>\n",
       "      <td>VOLKSWAGEN</td>\n",
       "      <td>TIGUAN FWD</td>\n",
       "      <td>LE</td>\n",
       "      <td>SUV</td>\n",
       "      <td>4GT</td>\n",
       "      <td>A</td>\n",
       "      <td>85124.0</td>\n",
       "      <td>38</td>\n",
       "      <td>6.0</td>\n",
       "      <td>5322633.0</td>\n",
       "      <td>8300.0</td>\n",
       "      <td>2017-01-02</td>\n",
       "    </tr>\n",
       "    <tr>\n",
       "      <th>7</th>\n",
       "      <td>GOAA</td>\n",
       "      <td>2016</td>\n",
       "      <td>WHITE</td>\n",
       "      <td>VOLKSWAGEN</td>\n",
       "      <td>PASSAT 4C</td>\n",
       "      <td>1.8T S</td>\n",
       "      <td>4DSN</td>\n",
       "      <td>4GT</td>\n",
       "      <td>A</td>\n",
       "      <td>16947.0</td>\n",
       "      <td>46</td>\n",
       "      <td>2.0</td>\n",
       "      <td>4905415.0</td>\n",
       "      <td>13800.0</td>\n",
       "      <td>2017-01-02</td>\n",
       "    </tr>\n",
       "  </tbody>\n",
       "</table>\n",
       "</div>"
      ],
      "text/plain": [
       "  auction_code  car_year   color        make       model subseries  body  \\\n",
       "1         AYCA      2009   BLACK  VOLKSWAGEN  TIGUAN AWD       SEL   SUV   \n",
       "2         AYCA      2009  SILVER  VOLKSWAGEN      ROUTAN        SE   VAN   \n",
       "3         AYCA      2014     TAN  VOLKSWAGEN    JETTA 4C        SE  4DSN   \n",
       "6         NADE      2012   BLACK  VOLKSWAGEN  TIGUAN FWD        LE   SUV   \n",
       "7         GOAA      2016   WHITE  VOLKSWAGEN   PASSAT 4C    1.8T S  4DSN   \n",
       "\n",
       "  engine transmission  mileage  condition_grade  times_run     seller  \\\n",
       "1    4GT            A  96696.0               34        1.0  5177137.0   \n",
       "2     6G            A  92321.0               31        1.0  4925422.0   \n",
       "3    4GT            A  70568.0               27        1.0  4925422.0   \n",
       "6    4GT            A  85124.0               38        6.0  5322633.0   \n",
       "7    4GT            A  16947.0               46        2.0  4905415.0   \n",
       "\n",
       "   sale_price formatted_sold_date  \n",
       "1      7100.0          2017-01-02  \n",
       "2      5800.0          2017-01-02  \n",
       "3      4500.0          2017-01-02  \n",
       "6      8300.0          2017-01-02  \n",
       "7     13800.0          2017-01-02  "
      ]
     },
     "execution_count": 19,
     "metadata": {},
     "output_type": "execute_result"
    }
   ],
   "source": [
    "clean_df1.head()"
   ]
  },
  {
   "cell_type": "code",
   "execution_count": null,
   "id": "b0385493",
   "metadata": {
    "pycharm": {
     "name": "#%%\n"
    }
   },
   "outputs": [],
   "source": [
    "models = clean_df1.describe(include = 'all').loc['unique', :]\n",
    "m = []\n",
    "for i in df['model'].unique():\n",
    "    m.append(i)\n",
    "m.sort()\n",
    "print(m)"
   ]
  },
  {
   "cell_type": "code",
   "execution_count": 45,
   "id": "19256f54",
   "metadata": {
    "pycharm": {
     "name": "#%%\n"
    }
   },
   "outputs": [
    {
     "name": "stdout",
     "output_type": "stream",
     "text": [
      "Duplicate entries 1: 0\n",
      "Duplicate entries 2: 0\n",
      "Duplicate entries 3: 0\n",
      "Duplicate entries 4: 0\n",
      "Duplicate entries 5: 0\n",
      "Duplicate entries 6: 1\n",
      "Duplicate entries 7: 0\n"
     ]
    }
   ],
   "source": [
    "print(f\"Duplicate entries 1: {clean_df1.duplicated().sum()}\")\n",
    "print(f\"Duplicate entries 2: {clean_df2.duplicated().sum()}\")\n",
    "print(f\"Duplicate entries 3: {clean_df3.duplicated().sum()}\")\n",
    "print(f\"Duplicate entries 4: {clean_df4.duplicated().sum()}\")\n",
    "print(f\"Duplicate entries 5: {clean_df5.duplicated().sum()}\")\n",
    "print(f\"Duplicate entries 6: {clean_df6.duplicated().sum()}\")\n",
    "print(f\"Duplicate entries 7: {clean_df7.duplicated().sum()}\")"
   ]
  },
  {
   "cell_type": "code",
   "execution_count": 46,
   "id": "44eeb423",
   "metadata": {
    "pycharm": {
     "name": "#%%\n"
    }
   },
   "outputs": [
    {
     "name": "stdout",
     "output_type": "stream",
     "text": [
      "Duplicate entries 6: 0\n"
     ]
    }
   ],
   "source": [
    "no_dups_df6 = clean_df6.drop_duplicates()\n",
    "print(f\"Duplicate entries 6: {no_dups_df6.duplicated().sum()}\")\n"
   ]
  },
  {
   "cell_type": "code",
   "execution_count": 47,
   "id": "cf89de48",
   "metadata": {
    "pycharm": {
     "name": "#%%\n"
    }
   },
   "outputs": [
    {
     "data": {
      "text/plain": [
       "37    764\n",
       "42    724\n",
       "41    685\n",
       "43    684\n",
       "46    663\n",
       "44    663\n",
       "45    656\n",
       "36    649\n",
       "39    592\n",
       "40    577\n",
       "38    575\n",
       "35    573\n",
       "28    409\n",
       "34    397\n",
       "29    357\n",
       "50    340\n",
       "27    310\n",
       "33    282\n",
       "26    279\n",
       "32    245\n",
       "48    245\n",
       "25    242\n",
       "31    240\n",
       "47    227\n",
       "24    223\n",
       "30    213\n",
       "49    183\n",
       "21    150\n",
       "23    148\n",
       "20    133\n",
       "22    113\n",
       "19     94\n",
       "17     76\n",
       "13     74\n",
       "18     68\n",
       "16     50\n",
       "10     45\n",
       "15     36\n",
       "14     29\n",
       "0       7\n",
       "12      1\n",
       "11      1\n",
       "Name: condition_grade, dtype: int64"
      ]
     },
     "execution_count": 47,
     "metadata": {},
     "output_type": "execute_result"
    }
   ],
   "source": [
    "clean_df7['condition_grade'].value_counts()"
   ]
  },
  {
   "cell_type": "code",
   "execution_count": 48,
   "id": "9ca71b87",
   "metadata": {
    "pycharm": {
     "name": "#%%\n"
    }
   },
   "outputs": [
    {
     "data": {
      "text/plain": [
       "auction_code                   object\n",
       "car_year                        int64\n",
       "color                          object\n",
       "make                           object\n",
       "model                          object\n",
       "subseries                      object\n",
       "body                           object\n",
       "engine                         object\n",
       "transmission                   object\n",
       "mileage                       float64\n",
       "condition_grade                 int64\n",
       "times_run                     float64\n",
       "seller                        float64\n",
       "sale_price                    float64\n",
       "formatted_sold_date    datetime64[ns]\n",
       "dtype: object"
      ]
     },
     "execution_count": 48,
     "metadata": {},
     "output_type": "execute_result"
    }
   ],
   "source": [
    "clean_df1.dtypes"
   ]
  },
  {
   "cell_type": "code",
   "execution_count": 49,
   "id": "e81803ee",
   "metadata": {
    "pycharm": {
     "name": "#%%\n"
    }
   },
   "outputs": [],
   "source": [
    "clean_df1['color'] = clean_df1['color'].replace({\n",
    "    'GREY': 'GRAY', 'WHITEW': 'WHITE', 'CANDY WH': 'WHITE', 'BLACK EX': 'BLACK', 'DEEP BLA': 'BLACK', 'NIGHT BL': 'BLACK', 'LT BLUE': 'BLUE', 'BLUEK': 'BLUE', 'NOIR': 'BLACK', 'TWILIGHT': 'BLACK', 'CHAMPGNE': 'CHAMPAGN', 'DKBLUE': 'BLUE', 'RREY': 'GRAY', 'CREAM': 'WHITE', 'SLIVER': 'SILVER', 'WHITEGOL':'WHITE', 'TITANIUM': 'SILVER', 'BLACK  5': 'BLACK', '8LACK': 'BLACK', ' WHT GOLD': 'WHITE', 'OFFWHITE': 'WHITE', 'DK BLUE': 'BLUE', '8LUE': 'BLUE', '3HITE': 'WHITE', '0RAY': 'GRAY', '1HITE': 'WHITE', 'TOFFEE B': 'BROWN', '5LACK': 'BLACK', 'DRK BLUE': 'BLUE', 'PURE WHI': 'WHITE', 'BLACK UN': 'BLACK', 'BEIGE': 'TAN', 'COPPER': 'GOLD', 'PLATINUM': 'SILVER', 'REFLEX S': 'SILVER', 'TEAL': 'GREEN'\n",
    "})"
   ]
  },
  {
   "cell_type": "code",
   "execution_count": 50,
   "id": "0283a199",
   "metadata": {
    "pycharm": {
     "name": "#%%\n"
    }
   },
   "outputs": [],
   "source": [
    "def binning_function(col, cut_points, labels=None):\n",
    "    minvalue = col.min()\n",
    "    maxvalue = col.max()\n",
    "    break_points = [minvalue] + cut_points + [maxvalue]\n",
    "    print(break_points)\n",
    "    if not labels:\n",
    "        labels = range(len(cut_points) + 1)\n",
    "    col_bin = pd.cut(col, bins=break_points, labels=labels, include_lowest=True)\n",
    "    return col_bin"
   ]
  },
  {
   "cell_type": "code",
   "execution_count": 51,
   "id": "f1ed3fe4",
   "metadata": {
    "pycharm": {
     "name": "#%%\n"
    }
   },
   "outputs": [
    {
     "name": "stdout",
     "output_type": "stream",
     "text": [
      "[0.0, 25000, 50000, 75000, 100000, 999999.0]\n"
     ]
    },
    {
     "data": {
      "text/html": [
       "<div>\n",
       "<style scoped>\n",
       "    .dataframe tbody tr th:only-of-type {\n",
       "        vertical-align: middle;\n",
       "    }\n",
       "\n",
       "    .dataframe tbody tr th {\n",
       "        vertical-align: top;\n",
       "    }\n",
       "\n",
       "    .dataframe thead th {\n",
       "        text-align: right;\n",
       "    }\n",
       "</style>\n",
       "<table border=\"1\" class=\"dataframe\">\n",
       "  <thead>\n",
       "    <tr style=\"text-align: right;\">\n",
       "      <th></th>\n",
       "      <th>auction_code</th>\n",
       "      <th>car_year</th>\n",
       "      <th>color</th>\n",
       "      <th>make</th>\n",
       "      <th>model</th>\n",
       "      <th>subseries</th>\n",
       "      <th>body</th>\n",
       "      <th>engine</th>\n",
       "      <th>transmission</th>\n",
       "      <th>mileage</th>\n",
       "      <th>condition_grade</th>\n",
       "      <th>times_run</th>\n",
       "      <th>seller</th>\n",
       "      <th>sale_price</th>\n",
       "      <th>formatted_sold_date</th>\n",
       "      <th>vehicle_mileage_category</th>\n",
       "    </tr>\n",
       "  </thead>\n",
       "  <tbody>\n",
       "    <tr>\n",
       "      <th>1</th>\n",
       "      <td>AYCA</td>\n",
       "      <td>2009</td>\n",
       "      <td>BLACK</td>\n",
       "      <td>VOLKSWAGEN</td>\n",
       "      <td>TIGUAN AWD</td>\n",
       "      <td>SEL</td>\n",
       "      <td>SUV</td>\n",
       "      <td>4GT</td>\n",
       "      <td>A</td>\n",
       "      <td>96696.0</td>\n",
       "      <td>34</td>\n",
       "      <td>1.0</td>\n",
       "      <td>5177137.0</td>\n",
       "      <td>7100.0</td>\n",
       "      <td>2017-01-02</td>\n",
       "      <td>75k - 100k</td>\n",
       "    </tr>\n",
       "    <tr>\n",
       "      <th>2</th>\n",
       "      <td>AYCA</td>\n",
       "      <td>2009</td>\n",
       "      <td>SILVER</td>\n",
       "      <td>VOLKSWAGEN</td>\n",
       "      <td>ROUTAN</td>\n",
       "      <td>SE</td>\n",
       "      <td>VAN</td>\n",
       "      <td>6G</td>\n",
       "      <td>A</td>\n",
       "      <td>92321.0</td>\n",
       "      <td>31</td>\n",
       "      <td>1.0</td>\n",
       "      <td>4925422.0</td>\n",
       "      <td>5800.0</td>\n",
       "      <td>2017-01-02</td>\n",
       "      <td>75k - 100k</td>\n",
       "    </tr>\n",
       "    <tr>\n",
       "      <th>3</th>\n",
       "      <td>AYCA</td>\n",
       "      <td>2014</td>\n",
       "      <td>TAN</td>\n",
       "      <td>VOLKSWAGEN</td>\n",
       "      <td>JETTA 4C</td>\n",
       "      <td>SE</td>\n",
       "      <td>4DSN</td>\n",
       "      <td>4GT</td>\n",
       "      <td>A</td>\n",
       "      <td>70568.0</td>\n",
       "      <td>27</td>\n",
       "      <td>1.0</td>\n",
       "      <td>4925422.0</td>\n",
       "      <td>4500.0</td>\n",
       "      <td>2017-01-02</td>\n",
       "      <td>50k - 75k</td>\n",
       "    </tr>\n",
       "    <tr>\n",
       "      <th>6</th>\n",
       "      <td>NADE</td>\n",
       "      <td>2012</td>\n",
       "      <td>BLACK</td>\n",
       "      <td>VOLKSWAGEN</td>\n",
       "      <td>TIGUAN FWD</td>\n",
       "      <td>LE</td>\n",
       "      <td>SUV</td>\n",
       "      <td>4GT</td>\n",
       "      <td>A</td>\n",
       "      <td>85124.0</td>\n",
       "      <td>38</td>\n",
       "      <td>6.0</td>\n",
       "      <td>5322633.0</td>\n",
       "      <td>8300.0</td>\n",
       "      <td>2017-01-02</td>\n",
       "      <td>75k - 100k</td>\n",
       "    </tr>\n",
       "    <tr>\n",
       "      <th>7</th>\n",
       "      <td>GOAA</td>\n",
       "      <td>2016</td>\n",
       "      <td>WHITE</td>\n",
       "      <td>VOLKSWAGEN</td>\n",
       "      <td>PASSAT 4C</td>\n",
       "      <td>1.8T S</td>\n",
       "      <td>4DSN</td>\n",
       "      <td>4GT</td>\n",
       "      <td>A</td>\n",
       "      <td>16947.0</td>\n",
       "      <td>46</td>\n",
       "      <td>2.0</td>\n",
       "      <td>4905415.0</td>\n",
       "      <td>13800.0</td>\n",
       "      <td>2017-01-02</td>\n",
       "      <td>&lt; 25k</td>\n",
       "    </tr>\n",
       "    <tr>\n",
       "      <th>...</th>\n",
       "      <td>...</td>\n",
       "      <td>...</td>\n",
       "      <td>...</td>\n",
       "      <td>...</td>\n",
       "      <td>...</td>\n",
       "      <td>...</td>\n",
       "      <td>...</td>\n",
       "      <td>...</td>\n",
       "      <td>...</td>\n",
       "      <td>...</td>\n",
       "      <td>...</td>\n",
       "      <td>...</td>\n",
       "      <td>...</td>\n",
       "      <td>...</td>\n",
       "      <td>...</td>\n",
       "      <td>...</td>\n",
       "    </tr>\n",
       "    <tr>\n",
       "      <th>79609</th>\n",
       "      <td>MAA</td>\n",
       "      <td>2017</td>\n",
       "      <td>RED</td>\n",
       "      <td>VOLKSWAGEN</td>\n",
       "      <td>GOLF</td>\n",
       "      <td>WOLFSBURG</td>\n",
       "      <td>4DHB</td>\n",
       "      <td>4GT</td>\n",
       "      <td>A</td>\n",
       "      <td>22279.0</td>\n",
       "      <td>28</td>\n",
       "      <td>1.0</td>\n",
       "      <td>4905414.0</td>\n",
       "      <td>13600.0</td>\n",
       "      <td>2019-06-28</td>\n",
       "      <td>&lt; 25k</td>\n",
       "    </tr>\n",
       "    <tr>\n",
       "      <th>79610</th>\n",
       "      <td>MAA</td>\n",
       "      <td>2015</td>\n",
       "      <td>WHITE</td>\n",
       "      <td>VOLKSWAGEN</td>\n",
       "      <td>JETTA</td>\n",
       "      <td>GLI SEL</td>\n",
       "      <td>4DSN</td>\n",
       "      <td>4GT</td>\n",
       "      <td>A</td>\n",
       "      <td>76514.0</td>\n",
       "      <td>21</td>\n",
       "      <td>1.0</td>\n",
       "      <td>4905415.0</td>\n",
       "      <td>3600.0</td>\n",
       "      <td>2019-06-28</td>\n",
       "      <td>75k - 100k</td>\n",
       "    </tr>\n",
       "    <tr>\n",
       "      <th>79611</th>\n",
       "      <td>MAA</td>\n",
       "      <td>2017</td>\n",
       "      <td>BLACK</td>\n",
       "      <td>VOLKSWAGEN</td>\n",
       "      <td>PASSAT 4C</td>\n",
       "      <td>RLINE COMF</td>\n",
       "      <td>4DSN</td>\n",
       "      <td>4GT</td>\n",
       "      <td>A</td>\n",
       "      <td>24620.0</td>\n",
       "      <td>28</td>\n",
       "      <td>1.0</td>\n",
       "      <td>4905414.0</td>\n",
       "      <td>14400.0</td>\n",
       "      <td>2019-06-28</td>\n",
       "      <td>&lt; 25k</td>\n",
       "    </tr>\n",
       "    <tr>\n",
       "      <th>79612</th>\n",
       "      <td>MAA</td>\n",
       "      <td>2017</td>\n",
       "      <td>GRAY</td>\n",
       "      <td>VOLKSWAGEN</td>\n",
       "      <td>JETTA</td>\n",
       "      <td>1.4T S</td>\n",
       "      <td>4DSN</td>\n",
       "      <td>4GT</td>\n",
       "      <td>A</td>\n",
       "      <td>42364.0</td>\n",
       "      <td>23</td>\n",
       "      <td>1.0</td>\n",
       "      <td>4919311.0</td>\n",
       "      <td>9700.0</td>\n",
       "      <td>2019-06-28</td>\n",
       "      <td>25k - 50k</td>\n",
       "    </tr>\n",
       "    <tr>\n",
       "      <th>79613</th>\n",
       "      <td>SLAA</td>\n",
       "      <td>2011</td>\n",
       "      <td>BLUE</td>\n",
       "      <td>VOLKSWAGEN</td>\n",
       "      <td>JETTA 5C</td>\n",
       "      <td>SE</td>\n",
       "      <td>4DSN</td>\n",
       "      <td>5G</td>\n",
       "      <td>A</td>\n",
       "      <td>125802.0</td>\n",
       "      <td>20</td>\n",
       "      <td>2.0</td>\n",
       "      <td>5034660.0</td>\n",
       "      <td>3600.0</td>\n",
       "      <td>2019-06-30</td>\n",
       "      <td>&gt; 100k</td>\n",
       "    </tr>\n",
       "  </tbody>\n",
       "</table>\n",
       "<p>61251 rows × 16 columns</p>\n",
       "</div>"
      ],
      "text/plain": [
       "      auction_code  car_year   color        make       model   subseries  \\\n",
       "1             AYCA      2009   BLACK  VOLKSWAGEN  TIGUAN AWD         SEL   \n",
       "2             AYCA      2009  SILVER  VOLKSWAGEN      ROUTAN          SE   \n",
       "3             AYCA      2014     TAN  VOLKSWAGEN    JETTA 4C          SE   \n",
       "6             NADE      2012   BLACK  VOLKSWAGEN  TIGUAN FWD          LE   \n",
       "7             GOAA      2016   WHITE  VOLKSWAGEN   PASSAT 4C      1.8T S   \n",
       "...            ...       ...     ...         ...         ...         ...   \n",
       "79609          MAA      2017     RED  VOLKSWAGEN        GOLF   WOLFSBURG   \n",
       "79610          MAA      2015   WHITE  VOLKSWAGEN       JETTA     GLI SEL   \n",
       "79611          MAA      2017   BLACK  VOLKSWAGEN   PASSAT 4C  RLINE COMF   \n",
       "79612          MAA      2017    GRAY  VOLKSWAGEN       JETTA      1.4T S   \n",
       "79613         SLAA      2011    BLUE  VOLKSWAGEN    JETTA 5C          SE   \n",
       "\n",
       "       body engine transmission   mileage  condition_grade  times_run  \\\n",
       "1       SUV    4GT            A   96696.0               34        1.0   \n",
       "2       VAN     6G            A   92321.0               31        1.0   \n",
       "3      4DSN    4GT            A   70568.0               27        1.0   \n",
       "6       SUV    4GT            A   85124.0               38        6.0   \n",
       "7      4DSN    4GT            A   16947.0               46        2.0   \n",
       "...     ...    ...          ...       ...              ...        ...   \n",
       "79609  4DHB    4GT            A   22279.0               28        1.0   \n",
       "79610  4DSN    4GT            A   76514.0               21        1.0   \n",
       "79611  4DSN    4GT            A   24620.0               28        1.0   \n",
       "79612  4DSN    4GT            A   42364.0               23        1.0   \n",
       "79613  4DSN     5G            A  125802.0               20        2.0   \n",
       "\n",
       "          seller  sale_price formatted_sold_date vehicle_mileage_category  \n",
       "1      5177137.0      7100.0          2017-01-02               75k - 100k  \n",
       "2      4925422.0      5800.0          2017-01-02               75k - 100k  \n",
       "3      4925422.0      4500.0          2017-01-02                50k - 75k  \n",
       "6      5322633.0      8300.0          2017-01-02               75k - 100k  \n",
       "7      4905415.0     13800.0          2017-01-02                    < 25k  \n",
       "...          ...         ...                 ...                      ...  \n",
       "79609  4905414.0     13600.0          2019-06-28                    < 25k  \n",
       "79610  4905415.0      3600.0          2019-06-28               75k - 100k  \n",
       "79611  4905414.0     14400.0          2019-06-28                    < 25k  \n",
       "79612  4919311.0      9700.0          2019-06-28                25k - 50k  \n",
       "79613  5034660.0      3600.0          2019-06-30                   > 100k  \n",
       "\n",
       "[61251 rows x 16 columns]"
      ]
     },
     "execution_count": 51,
     "metadata": {},
     "output_type": "execute_result"
    }
   ],
   "source": [
    "cut_points = [25000, 50000, 75000, 100000]\n",
    "labels = ['< 25k', '25k - 50k', '50k - 75k', '75k - 100k', '> 100k']\n",
    "clean_df1['vehicle_mileage_category'] = binning_function(clean_df1['mileage'], cut_points, labels)\n",
    "clean_df1"
   ]
  },
  {
   "cell_type": "code",
   "execution_count": 40,
   "id": "6ee16706",
   "metadata": {
    "pycharm": {
     "name": "#%%\n"
    }
   },
   "outputs": [],
   "source": [
    "# write out csv's to output folder\n",
    "clean_df1.to_csv('Output/Volkswagon.csv', index=False, header=True)\n",
    "clean_df2.to_csv('Output/Toyota.csv', index=False, header=True)\n",
    "clean_df3.to_csv('Output/Porsche.csv', index=False, header=True)\n",
    "clean_df4.to_csv('Output/Mercedes.csv', index=False, header=True)\n",
    "clean_df5.to_csv('Output/Maserati.csv', index=False, header=True)\n",
    "clean_df6.to_csv('Output/Lincoln.csv', index=False, header=True)\n",
    "clean_df7.to_csv('Output/Lexus.csv', index=False, header=True)\n"
   ]
  }
 ],
 "metadata": {
  "interpreter": {
   "hash": "c13a3f10964a8b99620ffcda581fcde8e43b289abc8b1a260a3fac33f2cc771c"
  },
  "kernelspec": {
   "display_name": "Python 3",
   "language": "python",
   "name": "python3"
  },
  "language_info": {
   "codemirror_mode": {
    "name": "ipython",
    "version": 3
   },
   "file_extension": ".py",
   "mimetype": "text/x-python",
   "name": "python",
   "nbconvert_exporter": "python",
   "pygments_lexer": "ipython3",
   "version": "3.8.8"
  }
 },
 "nbformat": 4,
 "nbformat_minor": 5
}
