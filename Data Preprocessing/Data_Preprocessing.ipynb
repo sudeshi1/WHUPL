{
 "cells": [
  {
   "cell_type": "code",
   "execution_count": 1,
   "metadata": {
    "collapsed": true
   },
   "outputs": [],
   "source": [
    "import pandas as pd\n",
    "from sklearn.model_selection import train_test_split\n",
    "from sklearn.preprocessing import StandardScaler, MinMaxScaler, LabelEncoder\n",
    "import numpy as np\n",
    "from statistics import mode\n",
    "import jellyfish\n",
    "from fuzzywuzzy import fuzz"
   ]
  },
  {
   "cell_type": "code",
   "execution_count": 2,
   "outputs": [],
   "source": [
    "# import excel file and separate df by car make\\n\",\n",
    "xls = pd.ExcelFile('../Resources/Car_Data.xlsx')\n",
    "df1 = pd.read_excel(xls, 'Volkswagon')\n",
    "df2 = pd.read_excel(xls, 'Toyota')\n",
    "df3 = pd.read_excel(xls, 'Porsche')\n",
    "df4 = pd.read_excel(xls, 'Mercedes')\n",
    "df5 = pd.read_excel(xls, 'Maserati')\n",
    "df6 = pd.read_excel(xls, 'Lincoln')\n",
    "df7 = pd.read_excel(xls, 'Lexus')\n",
    "df8 = pd.read_excel(xls, 'Kia')\n",
    "df9 = pd.read_excel(xls, 'Landrover')\n",
    "df10 = pd.read_excel(xls, 'Volkswagon')\n",
    "df11 = pd.read_excel(xls, 'Honda')\n",
    "df12 = pd.read_excel(xls, 'Hyundai')\n",
    "df13 = pd.read_excel(xls, 'Acura')\n",
    "df14 = pd.read_excel(xls, 'Audi')\n",
    "df15 = pd.read_excel(xls, 'BMW')"
   ],
   "metadata": {
    "collapsed": false,
    "pycharm": {
     "name": "#%%\n"
    }
   }
  },
  {
   "cell_type": "code",
   "execution_count": 3,
   "outputs": [],
   "source": [
    "def clean_data(df):\n",
    "    # drop null values\n",
    "    new_df = df.dropna(how='any')\n",
    "    # drop duplicates\n",
    "    new_df = new_df.drop_duplicates()\n",
    "    # reformat datetime to date_time object\n",
    "    new_df['formatted_sold_date'] = pd.to_datetime(new_df['sold_date'], format='%Y-%m-%d-%H.%M.%S.%f')\n",
    "    new_df['sold_date_year'] = new_df['formatted_sold_date'].dt.year\n",
    "    new_df['sold_date_month'] = new_df['formatted_sold_date'].dt.month\n",
    "    # drop unneeded columns (dc = drop columns)\n",
    "    dc_df = new_df.drop(columns=['sold_date', 'formatted_sold_date', 'subseries', 'make', 'transmission', 'seller'])\n",
    "\n",
    "    # replace condition grade text values with numbers\n",
    "    dc_df['condition_grade'] = dc_df['condition_grade'].replace(\n",
    "    {'SL': 0, 'RG': 20, 'PR': 10, 'EC':50, 'CL':40, 'C': 40, 'AV':30, 'A': 30})\n",
    "\n",
    "    return dc_df\n"
   ],
   "metadata": {
    "collapsed": false,
    "pycharm": {
     "name": "#%%\n"
    }
   }
  },
  {
   "cell_type": "code",
   "execution_count": 5,
   "outputs": [],
   "source": [
    "clean_df1 = clean_data(df1)\n",
    "clean_df2 = clean_data(df2)\n",
    "clean_df3 = clean_data(df3)\n",
    "clean_df4 = clean_data(df4)\n",
    "clean_df5 = clean_data(df5)\n",
    "clean_df6 = clean_data(df6)\n",
    "clean_df7 = clean_data(df7)"
   ],
   "metadata": {
    "collapsed": false,
    "pycharm": {
     "name": "#%%\n"
    }
   }
  },
  {
   "cell_type": "code",
   "execution_count": 6,
   "outputs": [
    {
     "data": {
      "text/plain": "auction_code     83\ncolor           149\nmodel            80\nbody             14\nengine           21\ndtype: int64"
     },
     "execution_count": 6,
     "metadata": {},
     "output_type": "execute_result"
    }
   ],
   "source": [
    "# Generate our categorical variable lists\n",
    "car_cat = clean_df1.dtypes[clean_df1.dtypes == \"object\"].index.tolist()\n",
    "# Check the number of unique values in each column\n",
    "clean_df1[car_cat].nunique()"
   ],
   "metadata": {
    "collapsed": false,
    "pycharm": {
     "name": "#%%\n"
    }
   }
  },
  {
   "cell_type": "code",
   "execution_count": 7,
   "outputs": [],
   "source": [
    "model_cnt = clean_df1[car_cat][\"model\"].value_counts()"
   ],
   "metadata": {
    "collapsed": false,
    "pycharm": {
     "name": "#%%\n"
    }
   }
  },
  {
   "cell_type": "code",
   "execution_count": 8,
   "outputs": [],
   "source": [
    "# Group cars models less than 100 into 'other' category\\n\",\n",
    "# Choose a cutoff value and create a list of application types to be replaced\\n\",\n",
    "# use the variable name `application_types_to_replace`\\n\",\n",
    "model_types_to_replace = list(model_cnt[model_cnt < 100].index)\n",
    "# Replace in dataframe\n",
    "for model in model_types_to_replace:\n",
    "    clean_df1['model'] = clean_df1['model'].replace(model,\"Other\")\n",
    "    # Check to make sure binning was successful\n",
    "    clean_df1['model'].value_counts()"
   ],
   "metadata": {
    "collapsed": false,
    "pycharm": {
     "name": "#%%\n"
    }
   }
  },
  {
   "cell_type": "code",
   "execution_count": 9,
   "outputs": [],
   "source": [
    "# for each unique value in Description\n",
    "for d in clean_df1.model.unique():\n",
    "    # clean_df1['model'] = clean_df1['model'].apply(str)\n",
    "    # compute Levensthein distance\n",
    "    # and set to True if >= a 80\n",
    "    # (you may have to play around with it)\n",
    "    clean_df1[d] = clean_df1['model'].apply(\n",
    "        lambda x : fuzz.ratio(x, d) >= 70\n",
    "    )\n",
    "        # set a name for the group\\n\",\n",
    "        # here, simply the shortest\\n\",\n",
    "    m = np.min(clean_df1[clean_df1[d]==True].model)\n",
    "    # assign the group\\n\",\n",
    "    clean_df1.loc[clean_df1.model==d, 'model_group'] = m"
   ],
   "metadata": {
    "collapsed": false,
    "pycharm": {
     "name": "#%%\n"
    }
   }
  },
  {
   "cell_type": "code",
   "execution_count": 10,
   "outputs": [],
   "source": [
    "color_cnt = clean_df1['color'].value_counts()"
   ],
   "metadata": {
    "collapsed": false,
    "pycharm": {
     "name": "#%%\n"
    }
   }
  },
  {
   "cell_type": "code",
   "execution_count": 11,
   "outputs": [],
   "source": [
    "# Choose a cutoff value and create a list of application types to be replaced\\n\",\n",
    "# use the variable name `application_types_to_replace`\\n\",\n",
    "color_types_to_replace = list(color_cnt[color_cnt < 10].index)\n",
    "# Replace in dataframe\n",
    "for color in color_types_to_replace:\n",
    "    clean_df1['color'] = clean_df1['color'].replace(color,\"Other\")\n",
    "    # Check to make sure binning was successful\n",
    "    clean_df1['color'].value_counts()"
   ],
   "metadata": {
    "collapsed": false,
    "pycharm": {
     "name": "#%%\n"
    }
   }
  },
  {
   "cell_type": "code",
   "execution_count": 12,
   "outputs": [],
   "source": [
    "for d in clean_df1.color.unique():\n",
    "    # clean_df1['color'] = clean_df1['color'].apply(str)\n",
    "    # compute Levensthein distance\n",
    "    # and set to True if >= a 40\n",
    "    # (you may have to play around with it)\n",
    "    clean_df1[d] = clean_df1['color'].apply(\n",
    "        lambda x : fuzz.ratio(x, d) >= 30\n",
    "    )\n",
    "    # set a name for the group\n",
    "    # here, simply the shortest\n",
    "    m = np.min(clean_df1[clean_df1[d]==True].color)\n",
    "    # assign the group\n",
    "    clean_df1.loc[clean_df1.color==d, 'color_group'] = m"
   ],
   "metadata": {
    "collapsed": false,
    "pycharm": {
     "name": "#%%\n"
    }
   }
  },
  {
   "cell_type": "code",
   "execution_count": 13,
   "outputs": [],
   "source": [
    "def binning_function(col, cut_points, labels=None):\n",
    "    minvalue = col.min()\n",
    "    maxvalue = col.max()\n",
    "    break_points = [minvalue] + cut_points + [maxvalue]\n",
    "    print(break_points)\n",
    "    if not labels:\n",
    "        labels = range(len(cut_points) + 1)\n",
    "        col_bin = pd.cut(col, bins=break_points, labels=labels, include_lowest=True)\n",
    "        return col_bin"
   ],
   "metadata": {
    "collapsed": false,
    "pycharm": {
     "name": "#%%\n"
    }
   }
  },
  {
   "cell_type": "code",
   "execution_count": 14,
   "outputs": [
    {
     "name": "stdout",
     "output_type": "stream",
     "text": [
      "[0.0, 25000, 50000, 75000, 100000, 999999.0]\n"
     ]
    }
   ],
   "source": [
    "cut_points = [25000, 50000, 75000, 100000]\n",
    "labels = ['< 25k', '25k - 50k', '50k - 75k', '75k - 100k', '> 100k']\n",
    "clean_df1['vehicle_mileage_category'] = binning_function(clean_df1['mileage'], cut_points, labels)"
   ],
   "metadata": {
    "collapsed": false,
    "pycharm": {
     "name": "#%%\n"
    }
   }
  },
  {
   "cell_type": "code",
   "execution_count": 15,
   "outputs": [
    {
     "data": {
      "text/plain": "  auction_code  car_year model_group color_group  body  mileage  \\\n1         AYCA      2009  TIGUAN 4X4       BLACK   SUV  96696.0   \n2         AYCA      2009      ROUTAN       BEIGE   VAN  92321.0   \n3         AYCA      2014       JETTA    CANDY WH  4DSN  70568.0   \n6         NADE      2012  TIGUAN 4X4       BLACK   SUV  85124.0   \n7         GOAA      2016      PASSAT       BEIGE  4DSN  16947.0   \n\n   condition_grade  times_run  sold_date_year  sold_date_month  sale_price  \n1               34        1.0            2017                1      7100.0  \n2               31        1.0            2017                1      5800.0  \n3               27        1.0            2017                1      4500.0  \n6               38        6.0            2017                1      8300.0  \n7               46        2.0            2017                1     13800.0  ",
      "text/html": "<div>\n<style scoped>\n    .dataframe tbody tr th:only-of-type {\n        vertical-align: middle;\n    }\n\n    .dataframe tbody tr th {\n        vertical-align: top;\n    }\n\n    .dataframe thead th {\n        text-align: right;\n    }\n</style>\n<table border=\"1\" class=\"dataframe\">\n  <thead>\n    <tr style=\"text-align: right;\">\n      <th></th>\n      <th>auction_code</th>\n      <th>car_year</th>\n      <th>model_group</th>\n      <th>color_group</th>\n      <th>body</th>\n      <th>mileage</th>\n      <th>condition_grade</th>\n      <th>times_run</th>\n      <th>sold_date_year</th>\n      <th>sold_date_month</th>\n      <th>sale_price</th>\n    </tr>\n  </thead>\n  <tbody>\n    <tr>\n      <th>1</th>\n      <td>AYCA</td>\n      <td>2009</td>\n      <td>TIGUAN 4X4</td>\n      <td>BLACK</td>\n      <td>SUV</td>\n      <td>96696.0</td>\n      <td>34</td>\n      <td>1.0</td>\n      <td>2017</td>\n      <td>1</td>\n      <td>7100.0</td>\n    </tr>\n    <tr>\n      <th>2</th>\n      <td>AYCA</td>\n      <td>2009</td>\n      <td>ROUTAN</td>\n      <td>BEIGE</td>\n      <td>VAN</td>\n      <td>92321.0</td>\n      <td>31</td>\n      <td>1.0</td>\n      <td>2017</td>\n      <td>1</td>\n      <td>5800.0</td>\n    </tr>\n    <tr>\n      <th>3</th>\n      <td>AYCA</td>\n      <td>2014</td>\n      <td>JETTA</td>\n      <td>CANDY WH</td>\n      <td>4DSN</td>\n      <td>70568.0</td>\n      <td>27</td>\n      <td>1.0</td>\n      <td>2017</td>\n      <td>1</td>\n      <td>4500.0</td>\n    </tr>\n    <tr>\n      <th>6</th>\n      <td>NADE</td>\n      <td>2012</td>\n      <td>TIGUAN 4X4</td>\n      <td>BLACK</td>\n      <td>SUV</td>\n      <td>85124.0</td>\n      <td>38</td>\n      <td>6.0</td>\n      <td>2017</td>\n      <td>1</td>\n      <td>8300.0</td>\n    </tr>\n    <tr>\n      <th>7</th>\n      <td>GOAA</td>\n      <td>2016</td>\n      <td>PASSAT</td>\n      <td>BEIGE</td>\n      <td>4DSN</td>\n      <td>16947.0</td>\n      <td>46</td>\n      <td>2.0</td>\n      <td>2017</td>\n      <td>1</td>\n      <td>13800.0</td>\n    </tr>\n  </tbody>\n</table>\n</div>"
     },
     "execution_count": 15,
     "metadata": {},
     "output_type": "execute_result"
    }
   ],
   "source": [
    "clean_df1 = clean_df1[['auction_code', 'car_year', 'model_group', 'color_group', 'body', 'mileage', 'condition_grade', 'times_run', 'sold_date_year', 'sold_date_month', 'sale_price' ]]\n",
    "clean_df1.head()"
   ],
   "metadata": {
    "collapsed": false,
    "pycharm": {
     "name": "#%%\n"
    }
   }
  },
  {
   "cell_type": "code",
   "execution_count": null,
   "outputs": [],
   "source": [],
   "metadata": {
    "collapsed": false,
    "pycharm": {
     "name": "#%%\n"
    }
   }
  }
 ],
 "metadata": {
  "kernelspec": {
   "display_name": "Python 3",
   "language": "python",
   "name": "python3"
  },
  "language_info": {
   "codemirror_mode": {
    "name": "ipython",
    "version": 2
   },
   "file_extension": ".py",
   "mimetype": "text/x-python",
   "name": "python",
   "nbconvert_exporter": "python",
   "pygments_lexer": "ipython2",
   "version": "2.7.6"
  }
 },
 "nbformat": 4,
 "nbformat_minor": 0
}