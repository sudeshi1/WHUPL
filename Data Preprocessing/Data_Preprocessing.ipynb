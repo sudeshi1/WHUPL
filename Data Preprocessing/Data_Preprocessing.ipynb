{
 "cells": [
  {
   "cell_type": "code",
   "execution_count": 1,
   "outputs": [],
   "source": [
    "import pandas as pd\n",
    "import numpy as np\n",
    "from matplotlib import pyplot as plt\n",
    "from statistics import mode\n",
    "from fuzzywuzzy import fuzz\n",
    "import seaborn as sns\n",
    "from sklearn.model_selection import train_test_split\n",
    "from sklearn.preprocessing import StandardScaler, MinMaxScaler, LabelEncoder\n",
    "from sklearn.linear_model import LinearRegression, Ridge, Lasso, ElasticNet\n",
    "from sklearn.neighbors import KNeighborsRegressor\n",
    "from sklearn.ensemble import RandomForestRegressor, ExtraTreesRegressor, AdaBoostRegressor\n",
    "from sklearn.svm import SVR"
   ],
   "metadata": {
    "collapsed": false,
    "pycharm": {
     "name": "#%%\n"
    }
   }
  },
  {
   "cell_type": "code",
   "execution_count": 2,
   "outputs": [],
   "source": [
    "# import excel file and separate df by car make\n",
    "xls = pd.ExcelFile('../Resources/Car_Data.xlsx')\n",
    "# auction_df = pd.ExcelFile('../Resources/Auction Locations.xlsx')\n",
    "auction_df = pd.read_excel('../Resources/Auction Locations.xlsx')\n",
    "df = pd.read_excel(xls, 'Volkswagon')\n",
    "# df2 = pd.read_excel(xls, 'Toyota')\n",
    "# df3 = pd.read_excel(xls, 'Porsche')\n",
    "# df4 = pd.read_excel(xls, 'Mercedes')\n",
    "# df5 = pd.read_excel(xls, 'Maserati')\n",
    "# df6 = pd.read_excel(xls, 'Lincoln')\n",
    "# df7 = pd.read_excel(xls, 'Lexus')\n",
    "# df8 = pd.read_excel(xls, 'Kia')\n",
    "# df9 = pd.read_excel(xls, 'Landrover')\n",
    "# df10 = pd.read_excel(xls, 'Volkswagon')\n",
    "# df11 = pd.read_excel(xls, 'Honda')\n",
    "# df12 = pd.read_excel(xls, 'Hyundai')\n",
    "# df13 = pd.read_excel(xls, 'Acura')\n",
    "# df14 = pd.read_excel(xls, 'Audi')\n",
    "# df15 = pd.read_excel(xls, 'BMW')"
   ],
   "metadata": {
    "collapsed": false,
    "pycharm": {
     "name": "#%%\n"
    }
   }
  },
  {
   "cell_type": "code",
   "execution_count": 3,
   "outputs": [
    {
     "data": {
      "text/plain": "   auction_code                            name          region  \\\n0          EDMO                Manheim Edmonton          Canada   \n1          HLFX                 Manheim Halifax          Canada   \n2          MTRL                Manheim Montreal          Canada   \n3           TAA                 Manheim Toronto          Canada   \n4          CANM               Manheim Vancouver          Canada   \n5          AREN          Manheim Arena Illinois  Central Region   \n6          GCAA                 Manheim Chicago  Central Region   \n7          DALA                  Manheim Dallas  Central Region   \n8          DFWA       Manheim Dallas-Fort Worth  Central Region   \n9           DAA                  Manheim Denver  Central Region   \n10         BIGH                 Manheim Houston  Central Region   \n11         MMAA               Manheim Milwaukee  Central Region   \n12          RAA               Manheim Riverside  Central Region   \n13         SAAA             Manheim San Antonio  Central Region   \n14         SCAA            Manheim Southern Cal  Central Region   \n15         LHST           Manheim South Houston  Central Region   \n16         THAA             Manheim Texas Hobby  Central Region   \n17         WSTX              Manheim West Texas  Central Region   \n18          AAA                 Manheim Atlanta     East Region   \n19         BWAE  Manheim Baltimore - Washington     East Region   \n20         DETA                 Manheim Detroit     East Region   \n21          FAA          Manheim Fredericksburg     East Region   \n22         AAAW                 Manheim Georgia     East Region   \n23         NASH               Manheim Nashville     East Region   \n24         NADE              Manheim New Jersey     East Region   \n25          NAA                Manheim New York     East Region   \n26          MAA            Manheim Pennsylvania     East Region   \n27         HATA            Manheim Philadelphia     East Region   \n28         PRAA        Caribbean Sbasta De Auto  Florida Region   \n29         GOAA         Manheim Central Florida  Florida Region   \n30         DADE           Manheim Daytona Beach  Florida Region   \n31         LMAA         Manheim Fort Lauderdale  Florida Region   \n32         SWFL              Manheim Fort Myers  Florida Region   \n33          JAX            Manheim Jacksonville  Florida Region   \n34          LAA                Manheim Lakeland  Florida Region   \n35         FAAO                 Manheim Orlando  Florida Region   \n36         WPBA              Manheim Palm Beach  Florida Region   \n37         PCAA               Manheim Pensacola  Florida Region   \n38         SPAA                 Manheim St Pete  Florida Region   \n39         TBAA                   Manheim Tampa  Florida Region   \n40         SONB              Manheim Birmingham  Midwest Region   \n41         PTAF                   Manheim Flint  Midwest Region   \n42         KCAA             Manheim Kansas City  Midwest Region   \n43         SAPL               Manheim Lafayette  Midwest Region   \n44         MLRA             Manheim Little Rock  Midwest Region   \n45         MAAI             Manheim Minneapolis  Midwest Region   \n46         NSAA               Manheim Minnesota  Midwest Region   \n47         MISS             Manheim Mississippi  Midwest Region   \n48         NOAA             Manheim New Orleans  Midwest Region   \n49          OAA                    Manheim Ohio  Midwest Region   \n\n                                   address             city state      zip  \\\n0                          12866 153 St NW         Edmonton    AB  T5V 1A9   \n1                         376 Sackville Dr  Lower Sackville    NS  B4C 2R8   \n2                           715 Rue Dubois   Saint-Eustache    QC  J7P 3W1   \n3                           8277 Lawson Rd           Milton    ON  L9T 5C7   \n4                   Suite 400, 628 6th Ave  New Westminster    BC  V3M 6Z1   \n5                  200 West Old Chicago Dr      Bolingbrook    IL    60440   \n6                            20401 Cox Ave         Matteson    IL    60443   \n7                     5333 West Kiest Blvd           Dallas    TX    75236   \n8                  12101 Trinity Boulevard       Fort Worth    TX    76040   \n9                      17500 East 31st Ave           Aurora    CO    80011   \n10                 14450 West Rd, Westland          Houston    TX    77041   \n11                    561 South Highway 41        Caledonia    WI    53108   \n12                         6446 Fremont St        Riverside    CA    92504   \n13                        1500 Ackerman Rd      San Antonio    TX    78219   \n14                         10700 Beech Ave          Fontana    CA    92335   \n15                       9605 Glaveston Rd          Houston    TX    77034   \n16                         800 Brisbane Rd          Houston    TX    77061   \n17                             614 CR 7200          Lubbock    TX    28027   \n18                      4900 Buffington Rd          Red Oak    GA    30272   \n19                      7120 Dorsey Run Rd         Elkridge    MD    21075   \n20                    600 Will Carleton Rd           Taylor    MI    48180   \n21               4907 Jefferson Davis High   Fredericksburg    VA    22408   \n22                     7205 Campbellton Rd          Atlanta    GA    30331   \n23                      8400 Eastgate Blvd        Mt Juliet    TN    37122   \n24                          3328 Route 206       Bordentown    NJ     8505   \n25                            18 Route 17K         Newburgh    NY    12550   \n26                       1190 Lancaster Rd          Manheim    PA    17545   \n27                     2280 Bethlehem Pike         Hatfield    PA    19440   \n28                           Carretera 865         Toa Baja    PR      949   \n29                         9800 Bachman Rd          Orlando    FL    32824   \n30                     1305 Indian Lake Rd    Daytona Beach    FL    32120   \n31                   5353 South State Rd 7            Davie    FL    33314   \n32                        2100 Rockfill Rd       Fort Myers    FL    33916   \n33                      10817 New Kings Rd     Jacksonville    FL    32219   \n34               Interstate 4 & Highway 33         Lakeland    FL    33809   \n35                     600 West Highway 50            Ocoee    FL    34761   \n36                        600 Sansbury Way  West Palm Beach    FL    33411   \n37                     401 West Burgess Rd        Pensacola    FL    32503   \n38               14950 Roosevelt Boulevard       Clearwater    FL    33762   \n39                       401 South 50th St            Tampa    FL    33619   \n40                       5750 Highway 78 E       Birmingham    AL    35210   \n41                         4109 Holiday Dr            Flint    MI    48507   \n42               3901 N. Great Midwest Dri      Kansas City    MO    64161   \n43                        1611 St. Mary St            Scott    LA    70583   \n44                   5809 S University Ave      Little Rock    AR    72209   \n45                  8001 Jefferson Highway      Maple Grove    MN    55369   \n46  4908 Valley Industrial Boulevard North         Shakopee    MN    55379   \n47                7510 US Highway 49 North      Hattiesburg    MS    39402   \n48                    61077 St Tammany Ave          Slidell    LA    70460   \n49                       3905 Jackson Pike       Grove City    OH    43123   \n\n   country  \n0      CAN  \n1      CAN  \n2      CAN  \n3      CAN  \n4      CAN  \n5      USA  \n6      USA  \n7      USA  \n8      USA  \n9      USA  \n10     USA  \n11     USA  \n12     USA  \n13     USA  \n14     USA  \n15     USA  \n16     USA  \n17     USA  \n18     USA  \n19     USA  \n20     USA  \n21     USA  \n22     USA  \n23     USA  \n24     USA  \n25     USA  \n26     USA  \n27     USA  \n28     USA  \n29     USA  \n30     USA  \n31     USA  \n32     USA  \n33     USA  \n34     USA  \n35     USA  \n36     USA  \n37     USA  \n38     USA  \n39     USA  \n40     USA  \n41     USA  \n42     USA  \n43     USA  \n44     USA  \n45     USA  \n46     USA  \n47     USA  \n48     USA  \n49     USA  ",
      "text/html": "<div>\n<style scoped>\n    .dataframe tbody tr th:only-of-type {\n        vertical-align: middle;\n    }\n\n    .dataframe tbody tr th {\n        vertical-align: top;\n    }\n\n    .dataframe thead th {\n        text-align: right;\n    }\n</style>\n<table border=\"1\" class=\"dataframe\">\n  <thead>\n    <tr style=\"text-align: right;\">\n      <th></th>\n      <th>auction_code</th>\n      <th>name</th>\n      <th>region</th>\n      <th>address</th>\n      <th>city</th>\n      <th>state</th>\n      <th>zip</th>\n      <th>country</th>\n    </tr>\n  </thead>\n  <tbody>\n    <tr>\n      <th>0</th>\n      <td>EDMO</td>\n      <td>Manheim Edmonton</td>\n      <td>Canada</td>\n      <td>12866 153 St NW</td>\n      <td>Edmonton</td>\n      <td>AB</td>\n      <td>T5V 1A9</td>\n      <td>CAN</td>\n    </tr>\n    <tr>\n      <th>1</th>\n      <td>HLFX</td>\n      <td>Manheim Halifax</td>\n      <td>Canada</td>\n      <td>376 Sackville Dr</td>\n      <td>Lower Sackville</td>\n      <td>NS</td>\n      <td>B4C 2R8</td>\n      <td>CAN</td>\n    </tr>\n    <tr>\n      <th>2</th>\n      <td>MTRL</td>\n      <td>Manheim Montreal</td>\n      <td>Canada</td>\n      <td>715 Rue Dubois</td>\n      <td>Saint-Eustache</td>\n      <td>QC</td>\n      <td>J7P 3W1</td>\n      <td>CAN</td>\n    </tr>\n    <tr>\n      <th>3</th>\n      <td>TAA</td>\n      <td>Manheim Toronto</td>\n      <td>Canada</td>\n      <td>8277 Lawson Rd</td>\n      <td>Milton</td>\n      <td>ON</td>\n      <td>L9T 5C7</td>\n      <td>CAN</td>\n    </tr>\n    <tr>\n      <th>4</th>\n      <td>CANM</td>\n      <td>Manheim Vancouver</td>\n      <td>Canada</td>\n      <td>Suite 400, 628 6th Ave</td>\n      <td>New Westminster</td>\n      <td>BC</td>\n      <td>V3M 6Z1</td>\n      <td>CAN</td>\n    </tr>\n    <tr>\n      <th>5</th>\n      <td>AREN</td>\n      <td>Manheim Arena Illinois</td>\n      <td>Central Region</td>\n      <td>200 West Old Chicago Dr</td>\n      <td>Bolingbrook</td>\n      <td>IL</td>\n      <td>60440</td>\n      <td>USA</td>\n    </tr>\n    <tr>\n      <th>6</th>\n      <td>GCAA</td>\n      <td>Manheim Chicago</td>\n      <td>Central Region</td>\n      <td>20401 Cox Ave</td>\n      <td>Matteson</td>\n      <td>IL</td>\n      <td>60443</td>\n      <td>USA</td>\n    </tr>\n    <tr>\n      <th>7</th>\n      <td>DALA</td>\n      <td>Manheim Dallas</td>\n      <td>Central Region</td>\n      <td>5333 West Kiest Blvd</td>\n      <td>Dallas</td>\n      <td>TX</td>\n      <td>75236</td>\n      <td>USA</td>\n    </tr>\n    <tr>\n      <th>8</th>\n      <td>DFWA</td>\n      <td>Manheim Dallas-Fort Worth</td>\n      <td>Central Region</td>\n      <td>12101 Trinity Boulevard</td>\n      <td>Fort Worth</td>\n      <td>TX</td>\n      <td>76040</td>\n      <td>USA</td>\n    </tr>\n    <tr>\n      <th>9</th>\n      <td>DAA</td>\n      <td>Manheim Denver</td>\n      <td>Central Region</td>\n      <td>17500 East 31st Ave</td>\n      <td>Aurora</td>\n      <td>CO</td>\n      <td>80011</td>\n      <td>USA</td>\n    </tr>\n    <tr>\n      <th>10</th>\n      <td>BIGH</td>\n      <td>Manheim Houston</td>\n      <td>Central Region</td>\n      <td>14450 West Rd, Westland</td>\n      <td>Houston</td>\n      <td>TX</td>\n      <td>77041</td>\n      <td>USA</td>\n    </tr>\n    <tr>\n      <th>11</th>\n      <td>MMAA</td>\n      <td>Manheim Milwaukee</td>\n      <td>Central Region</td>\n      <td>561 South Highway 41</td>\n      <td>Caledonia</td>\n      <td>WI</td>\n      <td>53108</td>\n      <td>USA</td>\n    </tr>\n    <tr>\n      <th>12</th>\n      <td>RAA</td>\n      <td>Manheim Riverside</td>\n      <td>Central Region</td>\n      <td>6446 Fremont St</td>\n      <td>Riverside</td>\n      <td>CA</td>\n      <td>92504</td>\n      <td>USA</td>\n    </tr>\n    <tr>\n      <th>13</th>\n      <td>SAAA</td>\n      <td>Manheim San Antonio</td>\n      <td>Central Region</td>\n      <td>1500 Ackerman Rd</td>\n      <td>San Antonio</td>\n      <td>TX</td>\n      <td>78219</td>\n      <td>USA</td>\n    </tr>\n    <tr>\n      <th>14</th>\n      <td>SCAA</td>\n      <td>Manheim Southern Cal</td>\n      <td>Central Region</td>\n      <td>10700 Beech Ave</td>\n      <td>Fontana</td>\n      <td>CA</td>\n      <td>92335</td>\n      <td>USA</td>\n    </tr>\n    <tr>\n      <th>15</th>\n      <td>LHST</td>\n      <td>Manheim South Houston</td>\n      <td>Central Region</td>\n      <td>9605 Glaveston Rd</td>\n      <td>Houston</td>\n      <td>TX</td>\n      <td>77034</td>\n      <td>USA</td>\n    </tr>\n    <tr>\n      <th>16</th>\n      <td>THAA</td>\n      <td>Manheim Texas Hobby</td>\n      <td>Central Region</td>\n      <td>800 Brisbane Rd</td>\n      <td>Houston</td>\n      <td>TX</td>\n      <td>77061</td>\n      <td>USA</td>\n    </tr>\n    <tr>\n      <th>17</th>\n      <td>WSTX</td>\n      <td>Manheim West Texas</td>\n      <td>Central Region</td>\n      <td>614 CR 7200</td>\n      <td>Lubbock</td>\n      <td>TX</td>\n      <td>28027</td>\n      <td>USA</td>\n    </tr>\n    <tr>\n      <th>18</th>\n      <td>AAA</td>\n      <td>Manheim Atlanta</td>\n      <td>East Region</td>\n      <td>4900 Buffington Rd</td>\n      <td>Red Oak</td>\n      <td>GA</td>\n      <td>30272</td>\n      <td>USA</td>\n    </tr>\n    <tr>\n      <th>19</th>\n      <td>BWAE</td>\n      <td>Manheim Baltimore - Washington</td>\n      <td>East Region</td>\n      <td>7120 Dorsey Run Rd</td>\n      <td>Elkridge</td>\n      <td>MD</td>\n      <td>21075</td>\n      <td>USA</td>\n    </tr>\n    <tr>\n      <th>20</th>\n      <td>DETA</td>\n      <td>Manheim Detroit</td>\n      <td>East Region</td>\n      <td>600 Will Carleton Rd</td>\n      <td>Taylor</td>\n      <td>MI</td>\n      <td>48180</td>\n      <td>USA</td>\n    </tr>\n    <tr>\n      <th>21</th>\n      <td>FAA</td>\n      <td>Manheim Fredericksburg</td>\n      <td>East Region</td>\n      <td>4907 Jefferson Davis High</td>\n      <td>Fredericksburg</td>\n      <td>VA</td>\n      <td>22408</td>\n      <td>USA</td>\n    </tr>\n    <tr>\n      <th>22</th>\n      <td>AAAW</td>\n      <td>Manheim Georgia</td>\n      <td>East Region</td>\n      <td>7205 Campbellton Rd</td>\n      <td>Atlanta</td>\n      <td>GA</td>\n      <td>30331</td>\n      <td>USA</td>\n    </tr>\n    <tr>\n      <th>23</th>\n      <td>NASH</td>\n      <td>Manheim Nashville</td>\n      <td>East Region</td>\n      <td>8400 Eastgate Blvd</td>\n      <td>Mt Juliet</td>\n      <td>TN</td>\n      <td>37122</td>\n      <td>USA</td>\n    </tr>\n    <tr>\n      <th>24</th>\n      <td>NADE</td>\n      <td>Manheim New Jersey</td>\n      <td>East Region</td>\n      <td>3328 Route 206</td>\n      <td>Bordentown</td>\n      <td>NJ</td>\n      <td>8505</td>\n      <td>USA</td>\n    </tr>\n    <tr>\n      <th>25</th>\n      <td>NAA</td>\n      <td>Manheim New York</td>\n      <td>East Region</td>\n      <td>18 Route 17K</td>\n      <td>Newburgh</td>\n      <td>NY</td>\n      <td>12550</td>\n      <td>USA</td>\n    </tr>\n    <tr>\n      <th>26</th>\n      <td>MAA</td>\n      <td>Manheim Pennsylvania</td>\n      <td>East Region</td>\n      <td>1190 Lancaster Rd</td>\n      <td>Manheim</td>\n      <td>PA</td>\n      <td>17545</td>\n      <td>USA</td>\n    </tr>\n    <tr>\n      <th>27</th>\n      <td>HATA</td>\n      <td>Manheim Philadelphia</td>\n      <td>East Region</td>\n      <td>2280 Bethlehem Pike</td>\n      <td>Hatfield</td>\n      <td>PA</td>\n      <td>19440</td>\n      <td>USA</td>\n    </tr>\n    <tr>\n      <th>28</th>\n      <td>PRAA</td>\n      <td>Caribbean Sbasta De Auto</td>\n      <td>Florida Region</td>\n      <td>Carretera 865</td>\n      <td>Toa Baja</td>\n      <td>PR</td>\n      <td>949</td>\n      <td>USA</td>\n    </tr>\n    <tr>\n      <th>29</th>\n      <td>GOAA</td>\n      <td>Manheim Central Florida</td>\n      <td>Florida Region</td>\n      <td>9800 Bachman Rd</td>\n      <td>Orlando</td>\n      <td>FL</td>\n      <td>32824</td>\n      <td>USA</td>\n    </tr>\n    <tr>\n      <th>30</th>\n      <td>DADE</td>\n      <td>Manheim Daytona Beach</td>\n      <td>Florida Region</td>\n      <td>1305 Indian Lake Rd</td>\n      <td>Daytona Beach</td>\n      <td>FL</td>\n      <td>32120</td>\n      <td>USA</td>\n    </tr>\n    <tr>\n      <th>31</th>\n      <td>LMAA</td>\n      <td>Manheim Fort Lauderdale</td>\n      <td>Florida Region</td>\n      <td>5353 South State Rd 7</td>\n      <td>Davie</td>\n      <td>FL</td>\n      <td>33314</td>\n      <td>USA</td>\n    </tr>\n    <tr>\n      <th>32</th>\n      <td>SWFL</td>\n      <td>Manheim Fort Myers</td>\n      <td>Florida Region</td>\n      <td>2100 Rockfill Rd</td>\n      <td>Fort Myers</td>\n      <td>FL</td>\n      <td>33916</td>\n      <td>USA</td>\n    </tr>\n    <tr>\n      <th>33</th>\n      <td>JAX</td>\n      <td>Manheim Jacksonville</td>\n      <td>Florida Region</td>\n      <td>10817 New Kings Rd</td>\n      <td>Jacksonville</td>\n      <td>FL</td>\n      <td>32219</td>\n      <td>USA</td>\n    </tr>\n    <tr>\n      <th>34</th>\n      <td>LAA</td>\n      <td>Manheim Lakeland</td>\n      <td>Florida Region</td>\n      <td>Interstate 4 &amp; Highway 33</td>\n      <td>Lakeland</td>\n      <td>FL</td>\n      <td>33809</td>\n      <td>USA</td>\n    </tr>\n    <tr>\n      <th>35</th>\n      <td>FAAO</td>\n      <td>Manheim Orlando</td>\n      <td>Florida Region</td>\n      <td>600 West Highway 50</td>\n      <td>Ocoee</td>\n      <td>FL</td>\n      <td>34761</td>\n      <td>USA</td>\n    </tr>\n    <tr>\n      <th>36</th>\n      <td>WPBA</td>\n      <td>Manheim Palm Beach</td>\n      <td>Florida Region</td>\n      <td>600 Sansbury Way</td>\n      <td>West Palm Beach</td>\n      <td>FL</td>\n      <td>33411</td>\n      <td>USA</td>\n    </tr>\n    <tr>\n      <th>37</th>\n      <td>PCAA</td>\n      <td>Manheim Pensacola</td>\n      <td>Florida Region</td>\n      <td>401 West Burgess Rd</td>\n      <td>Pensacola</td>\n      <td>FL</td>\n      <td>32503</td>\n      <td>USA</td>\n    </tr>\n    <tr>\n      <th>38</th>\n      <td>SPAA</td>\n      <td>Manheim St Pete</td>\n      <td>Florida Region</td>\n      <td>14950 Roosevelt Boulevard</td>\n      <td>Clearwater</td>\n      <td>FL</td>\n      <td>33762</td>\n      <td>USA</td>\n    </tr>\n    <tr>\n      <th>39</th>\n      <td>TBAA</td>\n      <td>Manheim Tampa</td>\n      <td>Florida Region</td>\n      <td>401 South 50th St</td>\n      <td>Tampa</td>\n      <td>FL</td>\n      <td>33619</td>\n      <td>USA</td>\n    </tr>\n    <tr>\n      <th>40</th>\n      <td>SONB</td>\n      <td>Manheim Birmingham</td>\n      <td>Midwest Region</td>\n      <td>5750 Highway 78 E</td>\n      <td>Birmingham</td>\n      <td>AL</td>\n      <td>35210</td>\n      <td>USA</td>\n    </tr>\n    <tr>\n      <th>41</th>\n      <td>PTAF</td>\n      <td>Manheim Flint</td>\n      <td>Midwest Region</td>\n      <td>4109 Holiday Dr</td>\n      <td>Flint</td>\n      <td>MI</td>\n      <td>48507</td>\n      <td>USA</td>\n    </tr>\n    <tr>\n      <th>42</th>\n      <td>KCAA</td>\n      <td>Manheim Kansas City</td>\n      <td>Midwest Region</td>\n      <td>3901 N. Great Midwest Dri</td>\n      <td>Kansas City</td>\n      <td>MO</td>\n      <td>64161</td>\n      <td>USA</td>\n    </tr>\n    <tr>\n      <th>43</th>\n      <td>SAPL</td>\n      <td>Manheim Lafayette</td>\n      <td>Midwest Region</td>\n      <td>1611 St. Mary St</td>\n      <td>Scott</td>\n      <td>LA</td>\n      <td>70583</td>\n      <td>USA</td>\n    </tr>\n    <tr>\n      <th>44</th>\n      <td>MLRA</td>\n      <td>Manheim Little Rock</td>\n      <td>Midwest Region</td>\n      <td>5809 S University Ave</td>\n      <td>Little Rock</td>\n      <td>AR</td>\n      <td>72209</td>\n      <td>USA</td>\n    </tr>\n    <tr>\n      <th>45</th>\n      <td>MAAI</td>\n      <td>Manheim Minneapolis</td>\n      <td>Midwest Region</td>\n      <td>8001 Jefferson Highway</td>\n      <td>Maple Grove</td>\n      <td>MN</td>\n      <td>55369</td>\n      <td>USA</td>\n    </tr>\n    <tr>\n      <th>46</th>\n      <td>NSAA</td>\n      <td>Manheim Minnesota</td>\n      <td>Midwest Region</td>\n      <td>4908 Valley Industrial Boulevard North</td>\n      <td>Shakopee</td>\n      <td>MN</td>\n      <td>55379</td>\n      <td>USA</td>\n    </tr>\n    <tr>\n      <th>47</th>\n      <td>MISS</td>\n      <td>Manheim Mississippi</td>\n      <td>Midwest Region</td>\n      <td>7510 US Highway 49 North</td>\n      <td>Hattiesburg</td>\n      <td>MS</td>\n      <td>39402</td>\n      <td>USA</td>\n    </tr>\n    <tr>\n      <th>48</th>\n      <td>NOAA</td>\n      <td>Manheim New Orleans</td>\n      <td>Midwest Region</td>\n      <td>61077 St Tammany Ave</td>\n      <td>Slidell</td>\n      <td>LA</td>\n      <td>70460</td>\n      <td>USA</td>\n    </tr>\n    <tr>\n      <th>49</th>\n      <td>OAA</td>\n      <td>Manheim Ohio</td>\n      <td>Midwest Region</td>\n      <td>3905 Jackson Pike</td>\n      <td>Grove City</td>\n      <td>OH</td>\n      <td>43123</td>\n      <td>USA</td>\n    </tr>\n  </tbody>\n</table>\n</div>"
     },
     "execution_count": 3,
     "metadata": {},
     "output_type": "execute_result"
    }
   ],
   "source": [
    "auction_df.head(50)"
   ],
   "metadata": {
    "collapsed": false,
    "pycharm": {
     "name": "#%%\n"
    }
   }
  },
  {
   "cell_type": "code",
   "execution_count": 4,
   "outputs": [],
   "source": [
    "df1 = pd.merge(df, auction_df, on='auction_code')"
   ],
   "metadata": {
    "collapsed": false,
    "pycharm": {
     "name": "#%%\n"
    }
   }
  },
  {
   "cell_type": "code",
   "execution_count": 5,
   "outputs": [],
   "source": [
    "def clean_data(df):\n",
    "    # drop null values\n",
    "    new_df = df.dropna(how='any')\n",
    "    # drop duplicates\n",
    "    new_df = new_df.drop_duplicates()\n",
    "    # reformat datetime to date_time object\n",
    "    new_df['formatted_sold_date'] = pd.to_datetime(new_df['sold_date'], format='%Y-%m-%d-%H.%M.%S.%f')\n",
    "    new_df['sold_date_year'] = new_df['formatted_sold_date'].dt.year\n",
    "    new_df['sold_date_month'] = new_df['formatted_sold_date'].dt.month\n",
    "    # drop unneeded columns (dc = drop columns)\n",
    "    dc_df = new_df.drop(columns=['sold_date', 'formatted_sold_date', 'subseries', 'make', 'transmission', 'seller', 'auction_code', 'address', 'name', 'zip', 'country'])\n",
    "\n",
    "    # replace condition grade text values with numbers\n",
    "    dc_df['condition_grade'] = dc_df['condition_grade'].replace(\n",
    "    {'SL': 0, 'RG': 20, 'PR': 10, 'EC':50, 'CL':40, 'C': 40, 'AV':30, 'A': 30, 'I0': 0})\n",
    "\n",
    "    return dc_df\n"
   ],
   "metadata": {
    "collapsed": false,
    "pycharm": {
     "name": "#%%\n"
    }
   }
  },
  {
   "cell_type": "code",
   "execution_count": 6,
   "outputs": [],
   "source": [
    "# df_list = {df1, df2, df3, df4, df5, df6, df7, df8, df9, df10, df11, df12, df13, df14, df15}\n",
    "#\n",
    "# for df in df_list:\n",
    "#     clean_[df] = clean_data(df)\n",
    "\n",
    "clean_df1 = clean_data(df1)"
   ],
   "metadata": {
    "collapsed": false,
    "pycharm": {
     "name": "#%%\n"
    }
   }
  },
  {
   "cell_type": "code",
   "execution_count": 7,
   "outputs": [],
   "source": [
    "# Generate our categorical variable lists\n",
    "car_cat = clean_df1.dtypes[clean_df1.dtypes == \"object\"].index.tolist()"
   ],
   "metadata": {
    "collapsed": false,
    "pycharm": {
     "name": "#%%\n"
    }
   }
  },
  {
   "cell_type": "code",
   "execution_count": 8,
   "outputs": [],
   "source": [
    "model_cnt = clean_df1[car_cat][\"model\"].value_counts()"
   ],
   "metadata": {
    "collapsed": false,
    "pycharm": {
     "name": "#%%\n"
    }
   }
  },
  {
   "cell_type": "code",
   "execution_count": 9,
   "outputs": [],
   "source": [
    "# Group cars models less than 100 into 'other' category\\n\",\n",
    "# Choose a cutoff value and create a list of application types to be replaced\\n\",\n",
    "# use the variable name `application_types_to_replace`\\n\",\n",
    "model_types_to_replace = list(model_cnt[model_cnt < 100].index)\n",
    "# Replace in dataframe\n",
    "for model in model_types_to_replace:\n",
    "    clean_df1['model'] = clean_df1['model'].replace(model,\"Other\")\n",
    "    clean_df1['model'] = clean_df1['model'].apply(str)\n"
   ],
   "metadata": {
    "collapsed": false,
    "pycharm": {
     "name": "#%%\n"
    }
   }
  },
  {
   "cell_type": "code",
   "execution_count": 10,
   "outputs": [],
   "source": [
    "# for each unique value in Description\n",
    "for d in clean_df1.model.unique():\n",
    "    # compute Levensthein distance\n",
    "    # and set to True if >= 70\n",
    "    # (you may have to play around with it)\n",
    "    clean_df1[d] = clean_df1['model'].apply(\n",
    "        lambda x : fuzz.ratio(x, d) >= 70\n",
    "    )\n",
    "        # set a name for the group\\n\",\n",
    "        # here, simply the shortest\\n\",\n",
    "    m = np.min(clean_df1[clean_df1[d]==True].model)\n",
    "    # assign the group\\n\",\n",
    "    clean_df1.loc[clean_df1.model==d, 'model_group'] = m"
   ],
   "metadata": {
    "collapsed": false,
    "pycharm": {
     "name": "#%%\n"
    }
   }
  },
  {
   "cell_type": "code",
   "execution_count": 11,
   "outputs": [],
   "source": [
    "color_cnt = clean_df1['color'].value_counts()"
   ],
   "metadata": {
    "collapsed": false,
    "pycharm": {
     "name": "#%%\n"
    }
   }
  },
  {
   "cell_type": "code",
   "execution_count": 12,
   "outputs": [],
   "source": [
    "# Choose a cutoff value and create a list of application types to be replaced\\n\",\n",
    "# use the variable name `application_types_to_replace`\\n\",\n",
    "color_types_to_replace = list(color_cnt[color_cnt < 10].index)\n",
    "# Replace in dataframe\n",
    "for color in color_types_to_replace:\n",
    "    clean_df1['color'] = clean_df1['color'].replace(color,\"Other\")"
   ],
   "metadata": {
    "collapsed": false,
    "pycharm": {
     "name": "#%%\n"
    }
   }
  },
  {
   "cell_type": "code",
   "execution_count": 13,
   "outputs": [],
   "source": [
    "for d in clean_df1.color.unique():\n",
    "    # clean_df1['color'] = clean_df1['color'].apply(str)\n",
    "    # compute Levensthein distance\n",
    "    # and set to True if >= a 30\n",
    "    # (you may have to play around with it)\n",
    "    clean_df1[d] = clean_df1['color'].apply(\n",
    "        lambda x : fuzz.ratio(x, d) >= 10\n",
    "    )\n",
    "    # set a name for the group\n",
    "    # here, simply the shortest\n",
    "    m = np.min(clean_df1[clean_df1[d]==True].color)\n",
    "    # assign the group\n",
    "    clean_df1.loc[clean_df1.color==d, 'color_group'] = m"
   ],
   "metadata": {
    "collapsed": false,
    "pycharm": {
     "name": "#%%\n"
    }
   }
  },
  {
   "cell_type": "code",
   "execution_count": 14,
   "outputs": [],
   "source": [
    "def binning_function(col, cut_points, labels=None):\n",
    "    minvalue = col.min()\n",
    "    maxvalue = col.max()\n",
    "    break_points = [minvalue] + cut_points + [maxvalue]\n",
    "    print(break_points)\n",
    "    if not labels:\n",
    "        labels = range(len(cut_points) + 1)\n",
    "    col_bin = pd.cut(col, bins=break_points, labels=labels, include_lowest=True)\n",
    "    return col_bin"
   ],
   "metadata": {
    "collapsed": false,
    "pycharm": {
     "name": "#%%\n"
    }
   }
  },
  {
   "cell_type": "code",
   "execution_count": 15,
   "outputs": [
    {
     "name": "stdout",
     "output_type": "stream",
     "text": [
      "[0.0, 25000, 50000, 75000, 100000, 999999.0]\n"
     ]
    }
   ],
   "source": [
    "cut_points = [25000, 50000, 75000, 100000]\n",
    "labels = ['< 25k', '25k - 50k', '50k - 75k', '75k - 100k', '> 100k']\n",
    "clean_df1['vehicle_mileage_category'] = binning_function(clean_df1['mileage'], cut_points, labels)"
   ],
   "metadata": {
    "collapsed": false,
    "pycharm": {
     "name": "#%%\n"
    }
   }
  },
  {
   "cell_type": "code",
   "execution_count": 16,
   "outputs": [
    {
     "data": {
      "text/plain": "   car_year model_group color_group  body vehicle_mileage_category  \\\n0      2009  TIGUAN 4X4       BEIGE   SUV               75k - 100k   \n1      2009      ROUTAN       BEIGE   VAN               75k - 100k   \n2      2014       JETTA       BLACK  4DSN                50k - 75k   \n5      2008       JETTA       BEIGE  4DSN                   > 100k   \n6      2011  TIGUAN 4X4       BEIGE   SUV                25k - 50k   \n\n   condition_grade  times_run  sold_date_year  sold_date_month  sale_price  \\\n0               34        1.0            2017                1      7100.0   \n1               31        1.0            2017                1      5800.0   \n2               27        1.0            2017                1      4500.0   \n5               35        1.0            2017                1      2600.0   \n6               39        1.0            2017                1     10100.0   \n\n             region   city state  \n0  Northeast Region  Kenly    NC  \n1  Northeast Region  Kenly    NC  \n2  Northeast Region  Kenly    NC  \n5  Northeast Region  Kenly    NC  \n6  Northeast Region  Kenly    NC  ",
      "text/html": "<div>\n<style scoped>\n    .dataframe tbody tr th:only-of-type {\n        vertical-align: middle;\n    }\n\n    .dataframe tbody tr th {\n        vertical-align: top;\n    }\n\n    .dataframe thead th {\n        text-align: right;\n    }\n</style>\n<table border=\"1\" class=\"dataframe\">\n  <thead>\n    <tr style=\"text-align: right;\">\n      <th></th>\n      <th>car_year</th>\n      <th>model_group</th>\n      <th>color_group</th>\n      <th>body</th>\n      <th>vehicle_mileage_category</th>\n      <th>condition_grade</th>\n      <th>times_run</th>\n      <th>sold_date_year</th>\n      <th>sold_date_month</th>\n      <th>sale_price</th>\n      <th>region</th>\n      <th>city</th>\n      <th>state</th>\n    </tr>\n  </thead>\n  <tbody>\n    <tr>\n      <th>0</th>\n      <td>2009</td>\n      <td>TIGUAN 4X4</td>\n      <td>BEIGE</td>\n      <td>SUV</td>\n      <td>75k - 100k</td>\n      <td>34</td>\n      <td>1.0</td>\n      <td>2017</td>\n      <td>1</td>\n      <td>7100.0</td>\n      <td>Northeast Region</td>\n      <td>Kenly</td>\n      <td>NC</td>\n    </tr>\n    <tr>\n      <th>1</th>\n      <td>2009</td>\n      <td>ROUTAN</td>\n      <td>BEIGE</td>\n      <td>VAN</td>\n      <td>75k - 100k</td>\n      <td>31</td>\n      <td>1.0</td>\n      <td>2017</td>\n      <td>1</td>\n      <td>5800.0</td>\n      <td>Northeast Region</td>\n      <td>Kenly</td>\n      <td>NC</td>\n    </tr>\n    <tr>\n      <th>2</th>\n      <td>2014</td>\n      <td>JETTA</td>\n      <td>BLACK</td>\n      <td>4DSN</td>\n      <td>50k - 75k</td>\n      <td>27</td>\n      <td>1.0</td>\n      <td>2017</td>\n      <td>1</td>\n      <td>4500.0</td>\n      <td>Northeast Region</td>\n      <td>Kenly</td>\n      <td>NC</td>\n    </tr>\n    <tr>\n      <th>5</th>\n      <td>2008</td>\n      <td>JETTA</td>\n      <td>BEIGE</td>\n      <td>4DSN</td>\n      <td>&gt; 100k</td>\n      <td>35</td>\n      <td>1.0</td>\n      <td>2017</td>\n      <td>1</td>\n      <td>2600.0</td>\n      <td>Northeast Region</td>\n      <td>Kenly</td>\n      <td>NC</td>\n    </tr>\n    <tr>\n      <th>6</th>\n      <td>2011</td>\n      <td>TIGUAN 4X4</td>\n      <td>BEIGE</td>\n      <td>SUV</td>\n      <td>25k - 50k</td>\n      <td>39</td>\n      <td>1.0</td>\n      <td>2017</td>\n      <td>1</td>\n      <td>10100.0</td>\n      <td>Northeast Region</td>\n      <td>Kenly</td>\n      <td>NC</td>\n    </tr>\n  </tbody>\n</table>\n</div>"
     },
     "execution_count": 16,
     "metadata": {},
     "output_type": "execute_result"
    }
   ],
   "source": [
    "clean_df1 = clean_df1[['car_year', 'model_group', 'color_group', 'body', 'vehicle_mileage_category', 'condition_grade', 'times_run', 'sold_date_year', 'sold_date_month', 'sale_price', 'region', 'city', 'state']]\n",
    "clean_df1.head()"
   ],
   "metadata": {
    "collapsed": false,
    "pycharm": {
     "name": "#%%\n"
    }
   }
  },
  {
   "cell_type": "code",
   "execution_count": 17,
   "outputs": [],
   "source": [
    "# df = pd.concat([df1, df2, df3, df4, df5, df6, df7, df8, df9, df10, df11, df12, df13, df14, df15], ignore_index = True, sort = False)"
   ],
   "metadata": {
    "collapsed": false,
    "pycharm": {
     "name": "#%%\n"
    }
   }
  },
  {
   "cell_type": "code",
   "execution_count": 18,
   "outputs": [],
   "source": [
    "# write out csv's to output folder\n",
    "clean_df1.to_csv('../Output/Volkswagon.csv', index=False, header=True)\n",
    "# clean_df2.to_csv('../Output/Toyota.csv', index=False, header=True)\n",
    "# clean_df3.to_csv('../Output/Porsche.csv', index=False, header=True)\n",
    "# clean_df4.to_csv('../Output/Mercedes.csv', index=False, header=True)\n",
    "# clean_df5.to_csv('../Output/Maserati.csv', index=False, header=True)\n",
    "# clean_df6.to_csv('../Output/Lincoln.csv', index=False, header=True)\n",
    "# clean_df7.to_csv('../Output/Lexus.csv', index=False, header=True)"
   ],
   "metadata": {
    "collapsed": false,
    "pycharm": {
     "name": "#%%\n"
    }
   }
  },
  {
   "cell_type": "code",
   "execution_count": 19,
   "outputs": [
    {
     "name": "stdout",
     "output_type": "stream",
     "text": [
      "<class 'pandas.core.frame.DataFrame'>\n",
      "Int64Index: 61185 entries, 0 to 79334\n",
      "Data columns (total 13 columns):\n",
      " #   Column                    Non-Null Count  Dtype   \n",
      "---  ------                    --------------  -----   \n",
      " 0   car_year                  61185 non-null  int64   \n",
      " 1   model_group               61185 non-null  object  \n",
      " 2   color_group               61185 non-null  object  \n",
      " 3   body                      61185 non-null  object  \n",
      " 4   vehicle_mileage_category  61185 non-null  category\n",
      " 5   condition_grade           61185 non-null  int64   \n",
      " 6   times_run                 61185 non-null  float64 \n",
      " 7   sold_date_year            61185 non-null  int64   \n",
      " 8   sold_date_month           61185 non-null  int64   \n",
      " 9   sale_price                61185 non-null  float64 \n",
      " 10  region                    61185 non-null  object  \n",
      " 11  city                      61185 non-null  object  \n",
      " 12  state                     61185 non-null  object  \n",
      "dtypes: category(1), float64(2), int64(4), object(6)\n",
      "memory usage: 6.1+ MB\n"
     ]
    }
   ],
   "source": [
    "clean_df1.info()"
   ],
   "metadata": {
    "collapsed": false,
    "pycharm": {
     "name": "#%%\n"
    }
   }
  },
  {
   "cell_type": "code",
   "execution_count": 20,
   "outputs": [],
   "source": [
    "def test_model(model, data):\n",
    "    X_train, X_test, y_train, y_test = data\n",
    "    reg = model.fit(X_train, y_train)\n",
    "    print(f'Model: {type(reg).__name__}')\n",
    "    print(f'Train score: {reg.score(X_train, y_train)}')\n",
    "    print(f'Test Score: {reg.score(X_test_scaled, y_test)}\\n')\n",
    "    plt.show()"
   ],
   "metadata": {
    "collapsed": false,
    "pycharm": {
     "name": "#%%\n"
    }
   }
  },
  {
   "cell_type": "code",
   "execution_count": 21,
   "outputs": [],
   "source": [
    "X = clean_df1.drop(\"sale_price\", axis=1)\n",
    "y = clean_df1['sale_price']"
   ],
   "metadata": {
    "collapsed": false,
    "pycharm": {
     "name": "#%%\n"
    }
   }
  },
  {
   "cell_type": "code",
   "execution_count": 22,
   "outputs": [
    {
     "name": "stdout",
     "output_type": "stream",
     "text": [
      "Index(['car_year', 'condition_grade', 'times_run', 'sold_date_year',\n",
      "       'sold_date_month', 'sale_price', 'model_group_ATLAS AWD V6',\n",
      "       'model_group_ATLAS FWD V6', 'model_group_BEETLE',\n",
      "       'model_group_CC FWD 4C',\n",
      "       ...\n",
      "       'state_PA', 'state_PR', 'state_QC', 'state_SC', 'state_TN', 'state_TX',\n",
      "       'state_UT', 'state_VA', 'state_WA', 'state_WI'],\n",
      "      dtype='object', length=173)\n"
     ]
    },
    {
     "data": {
      "text/plain": "       car_year  condition_grade  times_run  sold_date_year  sold_date_month  \\\n0          2009               34        1.0            2017                1   \n1          2009               31        1.0            2017                1   \n2          2014               27        1.0            2017                1   \n5          2008               35        1.0            2017                1   \n6          2011               39        1.0            2017                1   \n...         ...              ...        ...             ...              ...   \n79329      2015               35        1.0            2019                5   \n79330      2012               35        1.0            2019                5   \n79332      2011               36        1.0            2019                5   \n79333      2014               42        1.0            2019                6   \n79334      2009               36        2.0            2019                6   \n\n       sale_price  model_group_ATLAS AWD V6  model_group_ATLAS FWD V6  \\\n0          7100.0                         0                         0   \n1          5800.0                         0                         0   \n2          4500.0                         0                         0   \n5          2600.0                         0                         0   \n6         10100.0                         0                         0   \n...           ...                       ...                       ...   \n79329      6500.0                         0                         0   \n79330      3600.0                         0                         0   \n79332      5500.0                         0                         0   \n79333      7500.0                         0                         0   \n79334      2700.0                         0                         0   \n\n       model_group_BEETLE  model_group_CC FWD 4C  ...  state_PA  state_PR  \\\n0                       0                      0  ...         0         0   \n1                       0                      0  ...         0         0   \n2                       0                      0  ...         0         0   \n5                       0                      0  ...         0         0   \n6                       0                      0  ...         0         0   \n...                   ...                    ...  ...       ...       ...   \n79329                   0                      0  ...         0         0   \n79330                   0                      0  ...         0         0   \n79332                   0                      0  ...         0         0   \n79333                   0                      0  ...         0         0   \n79334                   0                      0  ...         0         0   \n\n       state_QC  state_SC  state_TN  state_TX  state_UT  state_VA  state_WA  \\\n0             0         0         0         0         0         0         0   \n1             0         0         0         0         0         0         0   \n2             0         0         0         0         0         0         0   \n5             0         0         0         0         0         0         0   \n6             0         0         0         0         0         0         0   \n...         ...       ...       ...       ...       ...       ...       ...   \n79329         0         0         0         0         0         0         0   \n79330         0         0         0         0         0         0         0   \n79332         0         0         0         0         0         0         0   \n79333         0         0         0         0         0         0         0   \n79334         0         0         0         0         0         0         0   \n\n       state_WI  \n0             0  \n1             0  \n2             0  \n5             0  \n6             0  \n...         ...  \n79329         0  \n79330         0  \n79332         0  \n79333         0  \n79334         0  \n\n[61185 rows x 173 columns]",
      "text/html": "<div>\n<style scoped>\n    .dataframe tbody tr th:only-of-type {\n        vertical-align: middle;\n    }\n\n    .dataframe tbody tr th {\n        vertical-align: top;\n    }\n\n    .dataframe thead th {\n        text-align: right;\n    }\n</style>\n<table border=\"1\" class=\"dataframe\">\n  <thead>\n    <tr style=\"text-align: right;\">\n      <th></th>\n      <th>car_year</th>\n      <th>condition_grade</th>\n      <th>times_run</th>\n      <th>sold_date_year</th>\n      <th>sold_date_month</th>\n      <th>sale_price</th>\n      <th>model_group_ATLAS AWD V6</th>\n      <th>model_group_ATLAS FWD V6</th>\n      <th>model_group_BEETLE</th>\n      <th>model_group_CC FWD 4C</th>\n      <th>...</th>\n      <th>state_PA</th>\n      <th>state_PR</th>\n      <th>state_QC</th>\n      <th>state_SC</th>\n      <th>state_TN</th>\n      <th>state_TX</th>\n      <th>state_UT</th>\n      <th>state_VA</th>\n      <th>state_WA</th>\n      <th>state_WI</th>\n    </tr>\n  </thead>\n  <tbody>\n    <tr>\n      <th>0</th>\n      <td>2009</td>\n      <td>34</td>\n      <td>1.0</td>\n      <td>2017</td>\n      <td>1</td>\n      <td>7100.0</td>\n      <td>0</td>\n      <td>0</td>\n      <td>0</td>\n      <td>0</td>\n      <td>...</td>\n      <td>0</td>\n      <td>0</td>\n      <td>0</td>\n      <td>0</td>\n      <td>0</td>\n      <td>0</td>\n      <td>0</td>\n      <td>0</td>\n      <td>0</td>\n      <td>0</td>\n    </tr>\n    <tr>\n      <th>1</th>\n      <td>2009</td>\n      <td>31</td>\n      <td>1.0</td>\n      <td>2017</td>\n      <td>1</td>\n      <td>5800.0</td>\n      <td>0</td>\n      <td>0</td>\n      <td>0</td>\n      <td>0</td>\n      <td>...</td>\n      <td>0</td>\n      <td>0</td>\n      <td>0</td>\n      <td>0</td>\n      <td>0</td>\n      <td>0</td>\n      <td>0</td>\n      <td>0</td>\n      <td>0</td>\n      <td>0</td>\n    </tr>\n    <tr>\n      <th>2</th>\n      <td>2014</td>\n      <td>27</td>\n      <td>1.0</td>\n      <td>2017</td>\n      <td>1</td>\n      <td>4500.0</td>\n      <td>0</td>\n      <td>0</td>\n      <td>0</td>\n      <td>0</td>\n      <td>...</td>\n      <td>0</td>\n      <td>0</td>\n      <td>0</td>\n      <td>0</td>\n      <td>0</td>\n      <td>0</td>\n      <td>0</td>\n      <td>0</td>\n      <td>0</td>\n      <td>0</td>\n    </tr>\n    <tr>\n      <th>5</th>\n      <td>2008</td>\n      <td>35</td>\n      <td>1.0</td>\n      <td>2017</td>\n      <td>1</td>\n      <td>2600.0</td>\n      <td>0</td>\n      <td>0</td>\n      <td>0</td>\n      <td>0</td>\n      <td>...</td>\n      <td>0</td>\n      <td>0</td>\n      <td>0</td>\n      <td>0</td>\n      <td>0</td>\n      <td>0</td>\n      <td>0</td>\n      <td>0</td>\n      <td>0</td>\n      <td>0</td>\n    </tr>\n    <tr>\n      <th>6</th>\n      <td>2011</td>\n      <td>39</td>\n      <td>1.0</td>\n      <td>2017</td>\n      <td>1</td>\n      <td>10100.0</td>\n      <td>0</td>\n      <td>0</td>\n      <td>0</td>\n      <td>0</td>\n      <td>...</td>\n      <td>0</td>\n      <td>0</td>\n      <td>0</td>\n      <td>0</td>\n      <td>0</td>\n      <td>0</td>\n      <td>0</td>\n      <td>0</td>\n      <td>0</td>\n      <td>0</td>\n    </tr>\n    <tr>\n      <th>...</th>\n      <td>...</td>\n      <td>...</td>\n      <td>...</td>\n      <td>...</td>\n      <td>...</td>\n      <td>...</td>\n      <td>...</td>\n      <td>...</td>\n      <td>...</td>\n      <td>...</td>\n      <td>...</td>\n      <td>...</td>\n      <td>...</td>\n      <td>...</td>\n      <td>...</td>\n      <td>...</td>\n      <td>...</td>\n      <td>...</td>\n      <td>...</td>\n      <td>...</td>\n      <td>...</td>\n    </tr>\n    <tr>\n      <th>79329</th>\n      <td>2015</td>\n      <td>35</td>\n      <td>1.0</td>\n      <td>2019</td>\n      <td>5</td>\n      <td>6500.0</td>\n      <td>0</td>\n      <td>0</td>\n      <td>0</td>\n      <td>0</td>\n      <td>...</td>\n      <td>0</td>\n      <td>0</td>\n      <td>0</td>\n      <td>0</td>\n      <td>0</td>\n      <td>0</td>\n      <td>0</td>\n      <td>0</td>\n      <td>0</td>\n      <td>0</td>\n    </tr>\n    <tr>\n      <th>79330</th>\n      <td>2012</td>\n      <td>35</td>\n      <td>1.0</td>\n      <td>2019</td>\n      <td>5</td>\n      <td>3600.0</td>\n      <td>0</td>\n      <td>0</td>\n      <td>0</td>\n      <td>0</td>\n      <td>...</td>\n      <td>0</td>\n      <td>0</td>\n      <td>0</td>\n      <td>0</td>\n      <td>0</td>\n      <td>0</td>\n      <td>0</td>\n      <td>0</td>\n      <td>0</td>\n      <td>0</td>\n    </tr>\n    <tr>\n      <th>79332</th>\n      <td>2011</td>\n      <td>36</td>\n      <td>1.0</td>\n      <td>2019</td>\n      <td>5</td>\n      <td>5500.0</td>\n      <td>0</td>\n      <td>0</td>\n      <td>0</td>\n      <td>0</td>\n      <td>...</td>\n      <td>0</td>\n      <td>0</td>\n      <td>0</td>\n      <td>0</td>\n      <td>0</td>\n      <td>0</td>\n      <td>0</td>\n      <td>0</td>\n      <td>0</td>\n      <td>0</td>\n    </tr>\n    <tr>\n      <th>79333</th>\n      <td>2014</td>\n      <td>42</td>\n      <td>1.0</td>\n      <td>2019</td>\n      <td>6</td>\n      <td>7500.0</td>\n      <td>0</td>\n      <td>0</td>\n      <td>0</td>\n      <td>0</td>\n      <td>...</td>\n      <td>0</td>\n      <td>0</td>\n      <td>0</td>\n      <td>0</td>\n      <td>0</td>\n      <td>0</td>\n      <td>0</td>\n      <td>0</td>\n      <td>0</td>\n      <td>0</td>\n    </tr>\n    <tr>\n      <th>79334</th>\n      <td>2009</td>\n      <td>36</td>\n      <td>2.0</td>\n      <td>2019</td>\n      <td>6</td>\n      <td>2700.0</td>\n      <td>0</td>\n      <td>0</td>\n      <td>0</td>\n      <td>0</td>\n      <td>...</td>\n      <td>0</td>\n      <td>0</td>\n      <td>0</td>\n      <td>0</td>\n      <td>0</td>\n      <td>0</td>\n      <td>0</td>\n      <td>0</td>\n      <td>0</td>\n      <td>0</td>\n    </tr>\n  </tbody>\n</table>\n<p>61185 rows × 173 columns</p>\n</div>"
     },
     "execution_count": 22,
     "metadata": {},
     "output_type": "execute_result"
    }
   ],
   "source": [
    "# One-hot encoding the entire dataframe\n",
    "X_dummies = pd.get_dummies(clean_df1)\n",
    "print(X_dummies.columns)\n",
    "X_dummies"
   ],
   "metadata": {
    "collapsed": false,
    "pycharm": {
     "name": "#%%\n"
    }
   }
  },
  {
   "cell_type": "code",
   "execution_count": 23,
   "outputs": [
    {
     "data": {
      "text/plain": "<Figure size 432x288 with 2 Axes>",
      "image/png": "[encoded data removed]"
     },
     "metadata": {
      "needs_background": "light"
     },
     "output_type": "display_data"
    }
   ],
   "source": [
    "# sns.heatmap()\n",
    "ax = sns.heatmap(X_dummies, center=0)"
   ],
   "metadata": {
    "collapsed": false,
    "pycharm": {
     "name": "#%%\n"
    }
   }
  },
  {
   "cell_type": "code",
   "execution_count": 24,
   "outputs": [],
   "source": [
    "X_train, X_test, y_train, y_test = train_test_split(X_dummies, y, random_state=1)"
   ],
   "metadata": {
    "collapsed": false,
    "pycharm": {
     "name": "#%%\n"
    }
   }
  },
  {
   "cell_type": "code",
   "execution_count": 25,
   "outputs": [],
   "source": [
    "# Create the grid search estimator along with a parameter object containing the values to adjust.\n",
    "# Try adjusting n_neighbors with values of 1 through 19. Adjust leaf_size by using 10, 50, 100, and 500.\n",
    "# Include both uniform and distance options for weights.\n",
    "from sklearn.neighbors import KNeighborsClassifier\n",
    "model = KNeighborsClassifier()\n",
    "\n",
    "from sklearn.model_selection import GridSearchCV\n",
    "param_grid = {\n",
    "    'n_neighbors': [1, 3, 5, 7, 9, 11, 13, 15, 17, 19],\n",
    "    'weights': ['uniform', 'distance'],\n",
    "    'leaf_size': [10, 50, 100, 500]\n",
    "}\n",
    "grid_clf = GridSearchCV(model, param_grid, verbose=3)"
   ],
   "metadata": {
    "collapsed": false,
    "pycharm": {
     "name": "#%%\n"
    }
   }
  },
  {
   "cell_type": "code",
   "execution_count": 26,
   "outputs": [
    {
     "name": "stdout",
     "output_type": "stream",
     "text": [
      "Fitting 5 folds for each of 80 candidates, totalling 400 fits\n"
     ]
    },
    {
     "name": "stderr",
     "output_type": "stream",
     "text": [
      "/Users/thomaslawless/opt/anaconda3/envs/Project 4/lib/python3.10/site-packages/sklearn/model_selection/_split.py:676: UserWarning: The least populated class in y has only 1 members, which is less than n_splits=5.\n",
      "  warnings.warn(\n"
     ]
    },
    {
     "name": "stdout",
     "output_type": "stream",
     "text": [
      "[CV 1/5] END leaf_size=10, n_neighbors=1, weights=uniform;, score=0.996 total time=   3.6s\n",
      "[CV 2/5] END leaf_size=10, n_neighbors=1, weights=uniform;, score=0.996 total time=   3.5s\n",
      "[CV 3/5] END leaf_size=10, n_neighbors=1, weights=uniform;, score=0.995 total time=   3.5s\n",
      "[CV 4/5] END leaf_size=10, n_neighbors=1, weights=uniform;, score=0.995 total time=   3.5s\n",
      "[CV 5/5] END leaf_size=10, n_neighbors=1, weights=uniform;, score=0.994 total time=   3.4s\n",
      "[CV 1/5] END leaf_size=10, n_neighbors=1, weights=distance;, score=0.996 total time=   3.4s\n",
      "[CV 2/5] END leaf_size=10, n_neighbors=1, weights=distance;, score=0.996 total time=   3.5s\n",
      "[CV 3/5] END leaf_size=10, n_neighbors=1, weights=distance;, score=0.995 total time=   3.5s\n",
      "[CV 4/5] END leaf_size=10, n_neighbors=1, weights=distance;, score=0.995 total time=   3.4s\n",
      "[CV 5/5] END leaf_size=10, n_neighbors=1, weights=distance;, score=0.994 total time=   3.4s\n",
      "[CV 1/5] END leaf_size=10, n_neighbors=3, weights=uniform;, score=0.994 total time=   6.9s\n",
      "[CV 2/5] END leaf_size=10, n_neighbors=3, weights=uniform;, score=0.994 total time=   6.9s\n",
      "[CV 3/5] END leaf_size=10, n_neighbors=3, weights=uniform;, score=0.993 total time=   6.9s\n",
      "[CV 4/5] END leaf_size=10, n_neighbors=3, weights=uniform;, score=0.994 total time=   7.0s\n",
      "[CV 5/5] END leaf_size=10, n_neighbors=3, weights=uniform;, score=0.993 total time=   7.0s\n",
      "[CV 1/5] END leaf_size=10, n_neighbors=3, weights=distance;, score=0.997 total time=   6.8s\n",
      "[CV 2/5] END leaf_size=10, n_neighbors=3, weights=distance;, score=0.996 total time=   6.9s\n",
      "[CV 3/5] END leaf_size=10, n_neighbors=3, weights=distance;, score=0.996 total time=   6.8s\n",
      "[CV 4/5] END leaf_size=10, n_neighbors=3, weights=distance;, score=0.996 total time=   6.9s\n",
      "[CV 5/5] END leaf_size=10, n_neighbors=3, weights=distance;, score=0.995 total time=   6.9s\n",
      "[CV 1/5] END leaf_size=10, n_neighbors=5, weights=uniform;, score=0.993 total time=   4.2s\n",
      "[CV 2/5] END leaf_size=10, n_neighbors=5, weights=uniform;, score=0.992 total time=   4.4s\n",
      "[CV 3/5] END leaf_size=10, n_neighbors=5, weights=uniform;, score=0.991 total time=   4.9s\n",
      "[CV 4/5] END leaf_size=10, n_neighbors=5, weights=uniform;, score=0.992 total time=   4.8s\n",
      "[CV 5/5] END leaf_size=10, n_neighbors=5, weights=uniform;, score=0.992 total time=   4.7s\n",
      "[CV 1/5] END leaf_size=10, n_neighbors=5, weights=distance;, score=0.997 total time=   4.3s\n",
      "[CV 2/5] END leaf_size=10, n_neighbors=5, weights=distance;, score=0.996 total time=   4.3s\n",
      "[CV 3/5] END leaf_size=10, n_neighbors=5, weights=distance;, score=0.995 total time=   4.9s\n",
      "[CV 4/5] END leaf_size=10, n_neighbors=5, weights=distance;, score=0.995 total time=   4.7s\n",
      "[CV 5/5] END leaf_size=10, n_neighbors=5, weights=distance;, score=0.995 total time=   4.7s\n",
      "[CV 1/5] END leaf_size=10, n_neighbors=7, weights=uniform;, score=0.992 total time=   4.4s\n",
      "[CV 2/5] END leaf_size=10, n_neighbors=7, weights=uniform;, score=0.992 total time=   4.4s\n",
      "[CV 3/5] END leaf_size=10, n_neighbors=7, weights=uniform;, score=0.990 total time=   4.8s\n",
      "[CV 4/5] END leaf_size=10, n_neighbors=7, weights=uniform;, score=0.990 total time=   4.8s\n",
      "[CV 5/5] END leaf_size=10, n_neighbors=7, weights=uniform;, score=0.990 total time=   4.7s\n",
      "[CV 1/5] END leaf_size=10, n_neighbors=7, weights=distance;, score=0.996 total time=   4.3s\n",
      "[CV 2/5] END leaf_size=10, n_neighbors=7, weights=distance;, score=0.996 total time=   4.5s\n",
      "[CV 3/5] END leaf_size=10, n_neighbors=7, weights=distance;, score=0.995 total time=   4.8s\n",
      "[CV 4/5] END leaf_size=10, n_neighbors=7, weights=distance;, score=0.995 total time=   4.7s\n",
      "[CV 5/5] END leaf_size=10, n_neighbors=7, weights=distance;, score=0.995 total time=   4.8s\n",
      "[CV 1/5] END leaf_size=10, n_neighbors=9, weights=uniform;, score=0.989 total time=   4.3s\n",
      "[CV 2/5] END leaf_size=10, n_neighbors=9, weights=uniform;, score=0.990 total time=   4.4s\n",
      "[CV 3/5] END leaf_size=10, n_neighbors=9, weights=uniform;, score=0.987 total time=   4.7s\n",
      "[CV 4/5] END leaf_size=10, n_neighbors=9, weights=uniform;, score=0.988 total time=   4.8s\n",
      "[CV 5/5] END leaf_size=10, n_neighbors=9, weights=uniform;, score=0.988 total time=   4.7s\n",
      "[CV 1/5] END leaf_size=10, n_neighbors=9, weights=distance;, score=0.996 total time=   4.5s\n",
      "[CV 2/5] END leaf_size=10, n_neighbors=9, weights=distance;, score=0.996 total time=   4.4s\n",
      "[CV 3/5] END leaf_size=10, n_neighbors=9, weights=distance;, score=0.995 total time=   4.7s\n",
      "[CV 4/5] END leaf_size=10, n_neighbors=9, weights=distance;, score=0.995 total time=   4.6s\n",
      "[CV 5/5] END leaf_size=10, n_neighbors=9, weights=distance;, score=0.995 total time=   4.6s\n",
      "[CV 1/5] END leaf_size=10, n_neighbors=11, weights=uniform;, score=0.987 total time=   4.3s\n",
      "[CV 2/5] END leaf_size=10, n_neighbors=11, weights=uniform;, score=0.988 total time=   4.3s\n",
      "[CV 3/5] END leaf_size=10, n_neighbors=11, weights=uniform;, score=0.985 total time=   4.7s\n",
      "[CV 4/5] END leaf_size=10, n_neighbors=11, weights=uniform;, score=0.986 total time=   4.6s\n",
      "[CV 5/5] END leaf_size=10, n_neighbors=11, weights=uniform;, score=0.986 total time=   4.6s\n",
      "[CV 1/5] END leaf_size=10, n_neighbors=11, weights=distance;, score=0.996 total time=   4.3s\n",
      "[CV 2/5] END leaf_size=10, n_neighbors=11, weights=distance;, score=0.995 total time=   4.4s\n",
      "[CV 3/5] END leaf_size=10, n_neighbors=11, weights=distance;, score=0.994 total time=   4.8s\n",
      "[CV 4/5] END leaf_size=10, n_neighbors=11, weights=distance;, score=0.995 total time=   4.6s\n",
      "[CV 5/5] END leaf_size=10, n_neighbors=11, weights=distance;, score=0.994 total time=   4.7s\n",
      "[CV 1/5] END leaf_size=10, n_neighbors=13, weights=uniform;, score=0.985 total time=   4.3s\n",
      "[CV 2/5] END leaf_size=10, n_neighbors=13, weights=uniform;, score=0.985 total time=   4.4s\n",
      "[CV 3/5] END leaf_size=10, n_neighbors=13, weights=uniform;, score=0.983 total time=   4.7s\n",
      "[CV 4/5] END leaf_size=10, n_neighbors=13, weights=uniform;, score=0.984 total time=   4.6s\n",
      "[CV 5/5] END leaf_size=10, n_neighbors=13, weights=uniform;, score=0.984 total time=   4.6s\n",
      "[CV 1/5] END leaf_size=10, n_neighbors=13, weights=distance;, score=0.995 total time=   4.3s\n",
      "[CV 2/5] END leaf_size=10, n_neighbors=13, weights=distance;, score=0.995 total time=   4.3s\n",
      "[CV 3/5] END leaf_size=10, n_neighbors=13, weights=distance;, score=0.994 total time=   4.9s\n",
      "[CV 4/5] END leaf_size=10, n_neighbors=13, weights=distance;, score=0.994 total time=   4.7s\n",
      "[CV 5/5] END leaf_size=10, n_neighbors=13, weights=distance;, score=0.994 total time=   4.7s\n",
      "[CV 1/5] END leaf_size=10, n_neighbors=15, weights=uniform;, score=0.981 total time=   4.2s\n",
      "[CV 2/5] END leaf_size=10, n_neighbors=15, weights=uniform;, score=0.982 total time=   4.3s\n",
      "[CV 3/5] END leaf_size=10, n_neighbors=15, weights=uniform;, score=0.981 total time=   4.7s\n",
      "[CV 4/5] END leaf_size=10, n_neighbors=15, weights=uniform;, score=0.982 total time=   4.6s\n",
      "[CV 5/5] END leaf_size=10, n_neighbors=15, weights=uniform;, score=0.981 total time=   4.6s\n",
      "[CV 1/5] END leaf_size=10, n_neighbors=15, weights=distance;, score=0.995 total time=   4.3s\n",
      "[CV 2/5] END leaf_size=10, n_neighbors=15, weights=distance;, score=0.995 total time=   4.4s\n",
      "[CV 3/5] END leaf_size=10, n_neighbors=15, weights=distance;, score=0.994 total time=   4.8s\n",
      "[CV 4/5] END leaf_size=10, n_neighbors=15, weights=distance;, score=0.994 total time=   4.7s\n",
      "[CV 5/5] END leaf_size=10, n_neighbors=15, weights=distance;, score=0.994 total time=   4.8s\n",
      "[CV 1/5] END leaf_size=10, n_neighbors=17, weights=uniform;, score=0.979 total time=   4.2s\n",
      "[CV 2/5] END leaf_size=10, n_neighbors=17, weights=uniform;, score=0.979 total time=   4.3s\n",
      "[CV 3/5] END leaf_size=10, n_neighbors=17, weights=uniform;, score=0.979 total time=   4.7s\n",
      "[CV 4/5] END leaf_size=10, n_neighbors=17, weights=uniform;, score=0.980 total time=   4.6s\n",
      "[CV 5/5] END leaf_size=10, n_neighbors=17, weights=uniform;, score=0.978 total time=   4.7s\n",
      "[CV 1/5] END leaf_size=10, n_neighbors=17, weights=distance;, score=0.995 total time=   4.3s\n",
      "[CV 2/5] END leaf_size=10, n_neighbors=17, weights=distance;, score=0.994 total time=   4.4s\n",
      "[CV 3/5] END leaf_size=10, n_neighbors=17, weights=distance;, score=0.993 total time=   4.9s\n",
      "[CV 4/5] END leaf_size=10, n_neighbors=17, weights=distance;, score=0.994 total time=   4.7s\n",
      "[CV 5/5] END leaf_size=10, n_neighbors=17, weights=distance;, score=0.993 total time=   4.8s\n",
      "[CV 1/5] END leaf_size=10, n_neighbors=19, weights=uniform;, score=0.977 total time=   4.4s\n",
      "[CV 2/5] END leaf_size=10, n_neighbors=19, weights=uniform;, score=0.977 total time=   4.5s\n",
      "[CV 3/5] END leaf_size=10, n_neighbors=19, weights=uniform;, score=0.977 total time=   4.8s\n",
      "[CV 4/5] END leaf_size=10, n_neighbors=19, weights=uniform;, score=0.976 total time=   4.8s\n",
      "[CV 5/5] END leaf_size=10, n_neighbors=19, weights=uniform;, score=0.976 total time=   4.7s\n",
      "[CV 1/5] END leaf_size=10, n_neighbors=19, weights=distance;, score=0.995 total time=   4.4s\n",
      "[CV 2/5] END leaf_size=10, n_neighbors=19, weights=distance;, score=0.994 total time=   4.6s\n",
      "[CV 3/5] END leaf_size=10, n_neighbors=19, weights=distance;, score=0.993 total time=   4.8s\n",
      "[CV 4/5] END leaf_size=10, n_neighbors=19, weights=distance;, score=0.994 total time=   4.9s\n",
      "[CV 5/5] END leaf_size=10, n_neighbors=19, weights=distance;, score=0.993 total time=   4.7s\n",
      "[CV 1/5] END leaf_size=50, n_neighbors=1, weights=uniform;, score=0.996 total time=   3.4s\n",
      "[CV 2/5] END leaf_size=50, n_neighbors=1, weights=uniform;, score=0.996 total time=   3.4s\n",
      "[CV 3/5] END leaf_size=50, n_neighbors=1, weights=uniform;, score=0.995 total time=   3.4s\n",
      "[CV 4/5] END leaf_size=50, n_neighbors=1, weights=uniform;, score=0.995 total time=   3.4s\n",
      "[CV 5/5] END leaf_size=50, n_neighbors=1, weights=uniform;, score=0.994 total time=   3.4s\n",
      "[CV 1/5] END leaf_size=50, n_neighbors=1, weights=distance;, score=0.996 total time=   3.4s\n",
      "[CV 2/5] END leaf_size=50, n_neighbors=1, weights=distance;, score=0.996 total time=   3.3s\n",
      "[CV 3/5] END leaf_size=50, n_neighbors=1, weights=distance;, score=0.995 total time=   3.3s\n",
      "[CV 4/5] END leaf_size=50, n_neighbors=1, weights=distance;, score=0.995 total time=   3.4s\n",
      "[CV 5/5] END leaf_size=50, n_neighbors=1, weights=distance;, score=0.994 total time=   3.4s\n",
      "[CV 1/5] END leaf_size=50, n_neighbors=3, weights=uniform;, score=0.994 total time=   6.8s\n",
      "[CV 2/5] END leaf_size=50, n_neighbors=3, weights=uniform;, score=0.994 total time=   6.8s\n",
      "[CV 3/5] END leaf_size=50, n_neighbors=3, weights=uniform;, score=0.993 total time=   6.8s\n",
      "[CV 4/5] END leaf_size=50, n_neighbors=3, weights=uniform;, score=0.994 total time=   6.7s\n",
      "[CV 5/5] END leaf_size=50, n_neighbors=3, weights=uniform;, score=0.993 total time=   6.8s\n",
      "[CV 1/5] END leaf_size=50, n_neighbors=3, weights=distance;, score=0.997 total time=   6.8s\n",
      "[CV 2/5] END leaf_size=50, n_neighbors=3, weights=distance;, score=0.996 total time=   6.8s\n",
      "[CV 3/5] END leaf_size=50, n_neighbors=3, weights=distance;, score=0.996 total time=   6.8s\n",
      "[CV 4/5] END leaf_size=50, n_neighbors=3, weights=distance;, score=0.996 total time=   6.7s\n",
      "[CV 5/5] END leaf_size=50, n_neighbors=3, weights=distance;, score=0.995 total time=   6.8s\n",
      "[CV 1/5] END leaf_size=50, n_neighbors=5, weights=uniform;, score=0.993 total time=   4.3s\n",
      "[CV 2/5] END leaf_size=50, n_neighbors=5, weights=uniform;, score=0.992 total time=   4.3s\n",
      "[CV 3/5] END leaf_size=50, n_neighbors=5, weights=uniform;, score=0.991 total time=   4.8s\n",
      "[CV 4/5] END leaf_size=50, n_neighbors=5, weights=uniform;, score=0.992 total time=   4.6s\n",
      "[CV 5/5] END leaf_size=50, n_neighbors=5, weights=uniform;, score=0.992 total time=   4.7s\n",
      "[CV 1/5] END leaf_size=50, n_neighbors=5, weights=distance;, score=0.997 total time=   4.3s\n",
      "[CV 2/5] END leaf_size=50, n_neighbors=5, weights=distance;, score=0.996 total time=   4.4s\n",
      "[CV 3/5] END leaf_size=50, n_neighbors=5, weights=distance;, score=0.995 total time=   4.8s\n",
      "[CV 4/5] END leaf_size=50, n_neighbors=5, weights=distance;, score=0.995 total time=   4.7s\n",
      "[CV 5/5] END leaf_size=50, n_neighbors=5, weights=distance;, score=0.995 total time=   4.7s\n",
      "[CV 1/5] END leaf_size=50, n_neighbors=7, weights=uniform;, score=0.992 total time=   4.2s\n",
      "[CV 2/5] END leaf_size=50, n_neighbors=7, weights=uniform;, score=0.992 total time=   4.4s\n",
      "[CV 3/5] END leaf_size=50, n_neighbors=7, weights=uniform;, score=0.990 total time=   4.7s\n",
      "[CV 4/5] END leaf_size=50, n_neighbors=7, weights=uniform;, score=0.990 total time=   4.7s\n",
      "[CV 5/5] END leaf_size=50, n_neighbors=7, weights=uniform;, score=0.990 total time=   4.7s\n",
      "[CV 1/5] END leaf_size=50, n_neighbors=7, weights=distance;, score=0.996 total time=   4.3s\n",
      "[CV 2/5] END leaf_size=50, n_neighbors=7, weights=distance;, score=0.996 total time=   4.4s\n",
      "[CV 3/5] END leaf_size=50, n_neighbors=7, weights=distance;, score=0.995 total time=   4.8s\n",
      "[CV 4/5] END leaf_size=50, n_neighbors=7, weights=distance;, score=0.995 total time=   4.7s\n",
      "[CV 5/5] END leaf_size=50, n_neighbors=7, weights=distance;, score=0.995 total time=   4.8s\n",
      "[CV 1/5] END leaf_size=50, n_neighbors=9, weights=uniform;, score=0.989 total time=   4.2s\n",
      "[CV 2/5] END leaf_size=50, n_neighbors=9, weights=uniform;, score=0.990 total time=   4.3s\n",
      "[CV 3/5] END leaf_size=50, n_neighbors=9, weights=uniform;, score=0.987 total time=   4.8s\n",
      "[CV 4/5] END leaf_size=50, n_neighbors=9, weights=uniform;, score=0.988 total time=   4.6s\n",
      "[CV 5/5] END leaf_size=50, n_neighbors=9, weights=uniform;, score=0.988 total time=   4.7s\n",
      "[CV 1/5] END leaf_size=50, n_neighbors=9, weights=distance;, score=0.996 total time=   4.3s\n",
      "[CV 2/5] END leaf_size=50, n_neighbors=9, weights=distance;, score=0.996 total time=   4.4s\n",
      "[CV 3/5] END leaf_size=50, n_neighbors=9, weights=distance;, score=0.995 total time=   4.8s\n",
      "[CV 4/5] END leaf_size=50, n_neighbors=9, weights=distance;, score=0.995 total time=   4.7s\n",
      "[CV 5/5] END leaf_size=50, n_neighbors=9, weights=distance;, score=0.995 total time=   4.7s\n",
      "[CV 1/5] END leaf_size=50, n_neighbors=11, weights=uniform;, score=0.987 total time=   4.3s\n",
      "[CV 2/5] END leaf_size=50, n_neighbors=11, weights=uniform;, score=0.988 total time=   4.3s\n",
      "[CV 3/5] END leaf_size=50, n_neighbors=11, weights=uniform;, score=0.985 total time=   4.7s\n",
      "[CV 4/5] END leaf_size=50, n_neighbors=11, weights=uniform;, score=0.986 total time=   4.6s\n",
      "[CV 5/5] END leaf_size=50, n_neighbors=11, weights=uniform;, score=0.986 total time=   4.6s\n",
      "[CV 1/5] END leaf_size=50, n_neighbors=11, weights=distance;, score=0.996 total time=   4.3s\n",
      "[CV 2/5] END leaf_size=50, n_neighbors=11, weights=distance;, score=0.995 total time=   4.4s\n",
      "[CV 3/5] END leaf_size=50, n_neighbors=11, weights=distance;, score=0.994 total time=   4.9s\n",
      "[CV 4/5] END leaf_size=50, n_neighbors=11, weights=distance;, score=0.995 total time=   4.8s\n",
      "[CV 5/5] END leaf_size=50, n_neighbors=11, weights=distance;, score=0.994 total time=   4.7s\n",
      "[CV 1/5] END leaf_size=50, n_neighbors=13, weights=uniform;, score=0.985 total time=   4.2s\n",
      "[CV 2/5] END leaf_size=50, n_neighbors=13, weights=uniform;, score=0.985 total time=   4.4s\n",
      "[CV 3/5] END leaf_size=50, n_neighbors=13, weights=uniform;, score=0.983 total time=   4.8s\n",
      "[CV 4/5] END leaf_size=50, n_neighbors=13, weights=uniform;, score=0.984 total time=   4.7s\n",
      "[CV 5/5] END leaf_size=50, n_neighbors=13, weights=uniform;, score=0.984 total time=   4.6s\n",
      "[CV 1/5] END leaf_size=50, n_neighbors=13, weights=distance;, score=0.995 total time=   4.3s\n",
      "[CV 2/5] END leaf_size=50, n_neighbors=13, weights=distance;, score=0.995 total time=   4.4s\n",
      "[CV 3/5] END leaf_size=50, n_neighbors=13, weights=distance;, score=0.994 total time=   4.8s\n",
      "[CV 4/5] END leaf_size=50, n_neighbors=13, weights=distance;, score=0.994 total time=   4.7s\n",
      "[CV 5/5] END leaf_size=50, n_neighbors=13, weights=distance;, score=0.994 total time=   4.7s\n",
      "[CV 1/5] END leaf_size=50, n_neighbors=15, weights=uniform;, score=0.981 total time=   4.2s\n",
      "[CV 2/5] END leaf_size=50, n_neighbors=15, weights=uniform;, score=0.982 total time=   4.3s\n",
      "[CV 3/5] END leaf_size=50, n_neighbors=15, weights=uniform;, score=0.981 total time=   4.7s\n",
      "[CV 4/5] END leaf_size=50, n_neighbors=15, weights=uniform;, score=0.982 total time=   4.6s\n",
      "[CV 5/5] END leaf_size=50, n_neighbors=15, weights=uniform;, score=0.981 total time=   4.6s\n",
      "[CV 1/5] END leaf_size=50, n_neighbors=15, weights=distance;, score=0.995 total time=   4.3s\n",
      "[CV 2/5] END leaf_size=50, n_neighbors=15, weights=distance;, score=0.995 total time=   4.4s\n",
      "[CV 3/5] END leaf_size=50, n_neighbors=15, weights=distance;, score=0.994 total time=   4.8s\n",
      "[CV 4/5] END leaf_size=50, n_neighbors=15, weights=distance;, score=0.994 total time=   4.7s\n",
      "[CV 5/5] END leaf_size=50, n_neighbors=15, weights=distance;, score=0.994 total time=   4.7s\n",
      "[CV 1/5] END leaf_size=50, n_neighbors=17, weights=uniform;, score=0.979 total time=   4.2s\n",
      "[CV 2/5] END leaf_size=50, n_neighbors=17, weights=uniform;, score=0.979 total time=   4.3s\n",
      "[CV 3/5] END leaf_size=50, n_neighbors=17, weights=uniform;, score=0.979 total time=   4.7s\n",
      "[CV 4/5] END leaf_size=50, n_neighbors=17, weights=uniform;, score=0.980 total time=   4.6s\n",
      "[CV 5/5] END leaf_size=50, n_neighbors=17, weights=uniform;, score=0.978 total time=   4.6s\n",
      "[CV 1/5] END leaf_size=50, n_neighbors=17, weights=distance;, score=0.995 total time=   4.3s\n",
      "[CV 2/5] END leaf_size=50, n_neighbors=17, weights=distance;, score=0.994 total time=   4.4s\n",
      "[CV 3/5] END leaf_size=50, n_neighbors=17, weights=distance;, score=0.993 total time=   4.9s\n",
      "[CV 4/5] END leaf_size=50, n_neighbors=17, weights=distance;, score=0.994 total time=   4.7s\n",
      "[CV 5/5] END leaf_size=50, n_neighbors=17, weights=distance;, score=0.993 total time=   4.7s\n",
      "[CV 1/5] END leaf_size=50, n_neighbors=19, weights=uniform;, score=0.977 total time=   4.2s\n",
      "[CV 2/5] END leaf_size=50, n_neighbors=19, weights=uniform;, score=0.977 total time=   4.3s\n",
      "[CV 3/5] END leaf_size=50, n_neighbors=19, weights=uniform;, score=0.977 total time=   4.7s\n",
      "[CV 4/5] END leaf_size=50, n_neighbors=19, weights=uniform;, score=0.976 total time=   4.6s\n",
      "[CV 5/5] END leaf_size=50, n_neighbors=19, weights=uniform;, score=0.976 total time=   4.6s\n",
      "[CV 1/5] END leaf_size=50, n_neighbors=19, weights=distance;, score=0.995 total time=   4.3s\n",
      "[CV 2/5] END leaf_size=50, n_neighbors=19, weights=distance;, score=0.994 total time=   4.5s\n",
      "[CV 3/5] END leaf_size=50, n_neighbors=19, weights=distance;, score=0.993 total time=   4.9s\n",
      "[CV 4/5] END leaf_size=50, n_neighbors=19, weights=distance;, score=0.994 total time=   4.7s\n",
      "[CV 5/5] END leaf_size=50, n_neighbors=19, weights=distance;, score=0.993 total time=   4.7s\n",
      "[CV 1/5] END leaf_size=100, n_neighbors=1, weights=uniform;, score=0.996 total time=   3.4s\n",
      "[CV 2/5] END leaf_size=100, n_neighbors=1, weights=uniform;, score=0.996 total time=   3.5s\n",
      "[CV 3/5] END leaf_size=100, n_neighbors=1, weights=uniform;, score=0.995 total time=   3.4s\n",
      "[CV 4/5] END leaf_size=100, n_neighbors=1, weights=uniform;, score=0.995 total time=   3.4s\n",
      "[CV 5/5] END leaf_size=100, n_neighbors=1, weights=uniform;, score=0.994 total time=   3.3s\n",
      "[CV 1/5] END leaf_size=100, n_neighbors=1, weights=distance;, score=0.996 total time=   3.4s\n",
      "[CV 2/5] END leaf_size=100, n_neighbors=1, weights=distance;, score=0.996 total time=   3.4s\n",
      "[CV 3/5] END leaf_size=100, n_neighbors=1, weights=distance;, score=0.995 total time=   3.3s\n",
      "[CV 4/5] END leaf_size=100, n_neighbors=1, weights=distance;, score=0.995 total time=   3.4s\n",
      "[CV 5/5] END leaf_size=100, n_neighbors=1, weights=distance;, score=0.994 total time=   3.3s\n",
      "[CV 1/5] END leaf_size=100, n_neighbors=3, weights=uniform;, score=0.994 total time=   6.8s\n",
      "[CV 2/5] END leaf_size=100, n_neighbors=3, weights=uniform;, score=0.994 total time=   6.8s\n",
      "[CV 3/5] END leaf_size=100, n_neighbors=3, weights=uniform;, score=0.993 total time=   6.8s\n",
      "[CV 4/5] END leaf_size=100, n_neighbors=3, weights=uniform;, score=0.994 total time=   6.7s\n",
      "[CV 5/5] END leaf_size=100, n_neighbors=3, weights=uniform;, score=0.993 total time=   6.8s\n",
      "[CV 1/5] END leaf_size=100, n_neighbors=3, weights=distance;, score=0.997 total time=   6.7s\n",
      "[CV 2/5] END leaf_size=100, n_neighbors=3, weights=distance;, score=0.996 total time=   6.7s\n",
      "[CV 3/5] END leaf_size=100, n_neighbors=3, weights=distance;, score=0.996 total time=   6.7s\n",
      "[CV 4/5] END leaf_size=100, n_neighbors=3, weights=distance;, score=0.996 total time=   6.7s\n",
      "[CV 5/5] END leaf_size=100, n_neighbors=3, weights=distance;, score=0.995 total time=   6.7s\n",
      "[CV 1/5] END leaf_size=100, n_neighbors=5, weights=uniform;, score=0.993 total time=   4.2s\n",
      "[CV 2/5] END leaf_size=100, n_neighbors=5, weights=uniform;, score=0.992 total time=   4.3s\n",
      "[CV 3/5] END leaf_size=100, n_neighbors=5, weights=uniform;, score=0.991 total time=   4.7s\n",
      "[CV 4/5] END leaf_size=100, n_neighbors=5, weights=uniform;, score=0.992 total time=   4.6s\n",
      "[CV 5/5] END leaf_size=100, n_neighbors=5, weights=uniform;, score=0.992 total time=   4.6s\n",
      "[CV 1/5] END leaf_size=100, n_neighbors=5, weights=distance;, score=0.997 total time=   4.2s\n",
      "[CV 2/5] END leaf_size=100, n_neighbors=5, weights=distance;, score=0.996 total time=   4.3s\n",
      "[CV 3/5] END leaf_size=100, n_neighbors=5, weights=distance;, score=0.995 total time=   4.7s\n",
      "[CV 4/5] END leaf_size=100, n_neighbors=5, weights=distance;, score=0.995 total time=   4.6s\n",
      "[CV 5/5] END leaf_size=100, n_neighbors=5, weights=distance;, score=0.995 total time=   4.6s\n",
      "[CV 1/5] END leaf_size=100, n_neighbors=7, weights=uniform;, score=0.992 total time=   4.2s\n",
      "[CV 2/5] END leaf_size=100, n_neighbors=7, weights=uniform;, score=0.992 total time=   4.3s\n",
      "[CV 3/5] END leaf_size=100, n_neighbors=7, weights=uniform;, score=0.990 total time=   4.7s\n",
      "[CV 4/5] END leaf_size=100, n_neighbors=7, weights=uniform;, score=0.990 total time=   4.6s\n",
      "[CV 5/5] END leaf_size=100, n_neighbors=7, weights=uniform;, score=0.990 total time=   4.6s\n",
      "[CV 1/5] END leaf_size=100, n_neighbors=7, weights=distance;, score=0.996 total time=   4.3s\n",
      "[CV 2/5] END leaf_size=100, n_neighbors=7, weights=distance;, score=0.996 total time=   4.4s\n",
      "[CV 3/5] END leaf_size=100, n_neighbors=7, weights=distance;, score=0.995 total time=   4.7s\n",
      "[CV 4/5] END leaf_size=100, n_neighbors=7, weights=distance;, score=0.995 total time=   4.6s\n",
      "[CV 5/5] END leaf_size=100, n_neighbors=7, weights=distance;, score=0.995 total time=   4.6s\n",
      "[CV 1/5] END leaf_size=100, n_neighbors=9, weights=uniform;, score=0.989 total time=   4.2s\n",
      "[CV 2/5] END leaf_size=100, n_neighbors=9, weights=uniform;, score=0.990 total time=   4.3s\n",
      "[CV 3/5] END leaf_size=100, n_neighbors=9, weights=uniform;, score=0.987 total time=   4.7s\n",
      "[CV 4/5] END leaf_size=100, n_neighbors=9, weights=uniform;, score=0.988 total time=   4.6s\n",
      "[CV 5/5] END leaf_size=100, n_neighbors=9, weights=uniform;, score=0.988 total time=   4.6s\n",
      "[CV 1/5] END leaf_size=100, n_neighbors=9, weights=distance;, score=0.996 total time=   4.3s\n",
      "[CV 2/5] END leaf_size=100, n_neighbors=9, weights=distance;, score=0.996 total time=   4.3s\n",
      "[CV 3/5] END leaf_size=100, n_neighbors=9, weights=distance;, score=0.995 total time=   4.8s\n",
      "[CV 4/5] END leaf_size=100, n_neighbors=9, weights=distance;, score=0.995 total time=   4.7s\n",
      "[CV 5/5] END leaf_size=100, n_neighbors=9, weights=distance;, score=0.995 total time=   4.7s\n",
      "[CV 1/5] END leaf_size=100, n_neighbors=11, weights=uniform;, score=0.987 total time=   4.2s\n",
      "[CV 2/5] END leaf_size=100, n_neighbors=11, weights=uniform;, score=0.988 total time=   4.3s\n",
      "[CV 3/5] END leaf_size=100, n_neighbors=11, weights=uniform;, score=0.985 total time=   4.7s\n",
      "[CV 4/5] END leaf_size=100, n_neighbors=11, weights=uniform;, score=0.986 total time=   4.6s\n",
      "[CV 5/5] END leaf_size=100, n_neighbors=11, weights=uniform;, score=0.986 total time=   4.6s\n",
      "[CV 1/5] END leaf_size=100, n_neighbors=11, weights=distance;, score=0.996 total time=   4.5s\n",
      "[CV 2/5] END leaf_size=100, n_neighbors=11, weights=distance;, score=0.995 total time=   4.3s\n",
      "[CV 3/5] END leaf_size=100, n_neighbors=11, weights=distance;, score=0.994 total time=   4.8s\n",
      "[CV 4/5] END leaf_size=100, n_neighbors=11, weights=distance;, score=0.995 total time=   4.7s\n",
      "[CV 5/5] END leaf_size=100, n_neighbors=11, weights=distance;, score=0.994 total time=   4.6s\n",
      "[CV 1/5] END leaf_size=100, n_neighbors=13, weights=uniform;, score=0.985 total time=   4.2s\n",
      "[CV 2/5] END leaf_size=100, n_neighbors=13, weights=uniform;, score=0.985 total time=   4.3s\n",
      "[CV 3/5] END leaf_size=100, n_neighbors=13, weights=uniform;, score=0.983 total time=   4.7s\n",
      "[CV 4/5] END leaf_size=100, n_neighbors=13, weights=uniform;, score=0.984 total time=   4.6s\n",
      "[CV 5/5] END leaf_size=100, n_neighbors=13, weights=uniform;, score=0.984 total time=   4.6s\n",
      "[CV 1/5] END leaf_size=100, n_neighbors=13, weights=distance;, score=0.995 total time=   4.3s\n",
      "[CV 2/5] END leaf_size=100, n_neighbors=13, weights=distance;, score=0.995 total time=   4.3s\n",
      "[CV 3/5] END leaf_size=100, n_neighbors=13, weights=distance;, score=0.994 total time=   4.8s\n",
      "[CV 4/5] END leaf_size=100, n_neighbors=13, weights=distance;, score=0.994 total time=   4.7s\n",
      "[CV 5/5] END leaf_size=100, n_neighbors=13, weights=distance;, score=0.994 total time=   4.7s\n",
      "[CV 1/5] END leaf_size=100, n_neighbors=15, weights=uniform;, score=0.981 total time=   4.2s\n",
      "[CV 2/5] END leaf_size=100, n_neighbors=15, weights=uniform;, score=0.982 total time=   4.3s\n",
      "[CV 3/5] END leaf_size=100, n_neighbors=15, weights=uniform;, score=0.981 total time=   4.7s\n",
      "[CV 4/5] END leaf_size=100, n_neighbors=15, weights=uniform;, score=0.982 total time=   4.6s\n",
      "[CV 5/5] END leaf_size=100, n_neighbors=15, weights=uniform;, score=0.981 total time=   4.6s\n",
      "[CV 1/5] END leaf_size=100, n_neighbors=15, weights=distance;, score=0.995 total time=   4.3s\n",
      "[CV 2/5] END leaf_size=100, n_neighbors=15, weights=distance;, score=0.995 total time=   4.4s\n",
      "[CV 3/5] END leaf_size=100, n_neighbors=15, weights=distance;, score=0.994 total time=   4.8s\n",
      "[CV 4/5] END leaf_size=100, n_neighbors=15, weights=distance;, score=0.994 total time=   4.8s\n",
      "[CV 5/5] END leaf_size=100, n_neighbors=15, weights=distance;, score=0.994 total time=   4.7s\n",
      "[CV 1/5] END leaf_size=100, n_neighbors=17, weights=uniform;, score=0.979 total time=   4.6s\n",
      "[CV 2/5] END leaf_size=100, n_neighbors=17, weights=uniform;, score=0.979 total time=   4.4s\n",
      "[CV 3/5] END leaf_size=100, n_neighbors=17, weights=uniform;, score=0.979 total time=   4.8s\n",
      "[CV 4/5] END leaf_size=100, n_neighbors=17, weights=uniform;, score=0.980 total time=   4.8s\n",
      "[CV 5/5] END leaf_size=100, n_neighbors=17, weights=uniform;, score=0.978 total time=   4.8s\n",
      "[CV 1/5] END leaf_size=100, n_neighbors=17, weights=distance;, score=0.995 total time=   4.3s\n",
      "[CV 2/5] END leaf_size=100, n_neighbors=17, weights=distance;, score=0.994 total time=   4.4s\n",
      "[CV 3/5] END leaf_size=100, n_neighbors=17, weights=distance;, score=0.993 total time=   4.9s\n",
      "[CV 4/5] END leaf_size=100, n_neighbors=17, weights=distance;, score=0.994 total time=   4.8s\n",
      "[CV 5/5] END leaf_size=100, n_neighbors=17, weights=distance;, score=0.993 total time=   4.7s\n",
      "[CV 1/5] END leaf_size=100, n_neighbors=19, weights=uniform;, score=0.977 total time=   4.3s\n",
      "[CV 2/5] END leaf_size=100, n_neighbors=19, weights=uniform;, score=0.977 total time=   4.3s\n",
      "[CV 3/5] END leaf_size=100, n_neighbors=19, weights=uniform;, score=0.977 total time=   4.7s\n",
      "[CV 4/5] END leaf_size=100, n_neighbors=19, weights=uniform;, score=0.976 total time=   4.6s\n",
      "[CV 5/5] END leaf_size=100, n_neighbors=19, weights=uniform;, score=0.976 total time=   4.6s\n",
      "[CV 1/5] END leaf_size=100, n_neighbors=19, weights=distance;, score=0.995 total time=   4.4s\n",
      "[CV 2/5] END leaf_size=100, n_neighbors=19, weights=distance;, score=0.994 total time=   4.7s\n",
      "[CV 3/5] END leaf_size=100, n_neighbors=19, weights=distance;, score=0.993 total time=   5.0s\n",
      "[CV 4/5] END leaf_size=100, n_neighbors=19, weights=distance;, score=0.994 total time=   4.8s\n",
      "[CV 5/5] END leaf_size=100, n_neighbors=19, weights=distance;, score=0.993 total time=   4.7s\n",
      "[CV 1/5] END leaf_size=500, n_neighbors=1, weights=uniform;, score=0.996 total time=   3.4s\n",
      "[CV 2/5] END leaf_size=500, n_neighbors=1, weights=uniform;, score=0.996 total time=   3.4s\n",
      "[CV 3/5] END leaf_size=500, n_neighbors=1, weights=uniform;, score=0.995 total time=   3.5s\n",
      "[CV 4/5] END leaf_size=500, n_neighbors=1, weights=uniform;, score=0.995 total time=   3.4s\n",
      "[CV 5/5] END leaf_size=500, n_neighbors=1, weights=uniform;, score=0.994 total time=   3.4s\n",
      "[CV 1/5] END leaf_size=500, n_neighbors=1, weights=distance;, score=0.996 total time=   3.4s\n",
      "[CV 2/5] END leaf_size=500, n_neighbors=1, weights=distance;, score=0.996 total time=   3.4s\n",
      "[CV 3/5] END leaf_size=500, n_neighbors=1, weights=distance;, score=0.995 total time=   3.5s\n",
      "[CV 4/5] END leaf_size=500, n_neighbors=1, weights=distance;, score=0.995 total time=   3.4s\n",
      "[CV 5/5] END leaf_size=500, n_neighbors=1, weights=distance;, score=0.994 total time=   3.4s\n",
      "[CV 1/5] END leaf_size=500, n_neighbors=3, weights=uniform;, score=0.994 total time=   6.8s\n",
      "[CV 2/5] END leaf_size=500, n_neighbors=3, weights=uniform;, score=0.994 total time=   6.8s\n",
      "[CV 3/5] END leaf_size=500, n_neighbors=3, weights=uniform;, score=0.993 total time=   6.7s\n",
      "[CV 4/5] END leaf_size=500, n_neighbors=3, weights=uniform;, score=0.994 total time=   6.8s\n",
      "[CV 5/5] END leaf_size=500, n_neighbors=3, weights=uniform;, score=0.993 total time=   6.8s\n",
      "[CV 1/5] END leaf_size=500, n_neighbors=3, weights=distance;, score=0.997 total time=   6.8s\n",
      "[CV 2/5] END leaf_size=500, n_neighbors=3, weights=distance;, score=0.996 total time=   6.8s\n",
      "[CV 3/5] END leaf_size=500, n_neighbors=3, weights=distance;, score=0.996 total time=   6.9s\n",
      "[CV 4/5] END leaf_size=500, n_neighbors=3, weights=distance;, score=0.996 total time=   6.9s\n",
      "[CV 5/5] END leaf_size=500, n_neighbors=3, weights=distance;, score=0.995 total time=   7.0s\n",
      "[CV 1/5] END leaf_size=500, n_neighbors=5, weights=uniform;, score=0.993 total time=   4.3s\n",
      "[CV 2/5] END leaf_size=500, n_neighbors=5, weights=uniform;, score=0.992 total time=   4.4s\n",
      "[CV 3/5] END leaf_size=500, n_neighbors=5, weights=uniform;, score=0.991 total time=   4.8s\n",
      "[CV 4/5] END leaf_size=500, n_neighbors=5, weights=uniform;, score=0.992 total time=   4.7s\n",
      "[CV 5/5] END leaf_size=500, n_neighbors=5, weights=uniform;, score=0.992 total time=   4.7s\n",
      "[CV 1/5] END leaf_size=500, n_neighbors=5, weights=distance;, score=0.997 total time=   4.4s\n",
      "[CV 2/5] END leaf_size=500, n_neighbors=5, weights=distance;, score=0.996 total time=   4.4s\n",
      "[CV 3/5] END leaf_size=500, n_neighbors=5, weights=distance;, score=0.995 total time=   4.8s\n",
      "[CV 4/5] END leaf_size=500, n_neighbors=5, weights=distance;, score=0.995 total time=   4.6s\n",
      "[CV 5/5] END leaf_size=500, n_neighbors=5, weights=distance;, score=0.995 total time=   4.7s\n",
      "[CV 1/5] END leaf_size=500, n_neighbors=7, weights=uniform;, score=0.992 total time=   4.2s\n",
      "[CV 2/5] END leaf_size=500, n_neighbors=7, weights=uniform;, score=0.992 total time=   4.3s\n",
      "[CV 3/5] END leaf_size=500, n_neighbors=7, weights=uniform;, score=0.990 total time=   4.7s\n",
      "[CV 4/5] END leaf_size=500, n_neighbors=7, weights=uniform;, score=0.990 total time=   4.6s\n",
      "[CV 5/5] END leaf_size=500, n_neighbors=7, weights=uniform;, score=0.990 total time=   4.6s\n",
      "[CV 1/5] END leaf_size=500, n_neighbors=7, weights=distance;, score=0.996 total time=   4.4s\n",
      "[CV 2/5] END leaf_size=500, n_neighbors=7, weights=distance;, score=0.996 total time=   4.4s\n",
      "[CV 3/5] END leaf_size=500, n_neighbors=7, weights=distance;, score=0.995 total time=   4.8s\n",
      "[CV 4/5] END leaf_size=500, n_neighbors=7, weights=distance;, score=0.995 total time=   4.7s\n",
      "[CV 5/5] END leaf_size=500, n_neighbors=7, weights=distance;, score=0.995 total time=   4.8s\n",
      "[CV 1/5] END leaf_size=500, n_neighbors=9, weights=uniform;, score=0.989 total time=   4.3s\n",
      "[CV 2/5] END leaf_size=500, n_neighbors=9, weights=uniform;, score=0.990 total time=   4.4s\n",
      "[CV 3/5] END leaf_size=500, n_neighbors=9, weights=uniform;, score=0.987 total time=   4.8s\n",
      "[CV 4/5] END leaf_size=500, n_neighbors=9, weights=uniform;, score=0.988 total time=   4.6s\n",
      "[CV 5/5] END leaf_size=500, n_neighbors=9, weights=uniform;, score=0.988 total time=   4.8s\n",
      "[CV 1/5] END leaf_size=500, n_neighbors=9, weights=distance;, score=0.996 total time=   4.4s\n",
      "[CV 2/5] END leaf_size=500, n_neighbors=9, weights=distance;, score=0.996 total time=   4.6s\n",
      "[CV 3/5] END leaf_size=500, n_neighbors=9, weights=distance;, score=0.995 total time=   4.8s\n",
      "[CV 4/5] END leaf_size=500, n_neighbors=9, weights=distance;, score=0.995 total time=   4.8s\n",
      "[CV 5/5] END leaf_size=500, n_neighbors=9, weights=distance;, score=0.995 total time=   4.8s\n",
      "[CV 1/5] END leaf_size=500, n_neighbors=11, weights=uniform;, score=0.987 total time=   4.4s\n",
      "[CV 2/5] END leaf_size=500, n_neighbors=11, weights=uniform;, score=0.988 total time=   4.4s\n",
      "[CV 3/5] END leaf_size=500, n_neighbors=11, weights=uniform;, score=0.985 total time=   4.9s\n",
      "[CV 4/5] END leaf_size=500, n_neighbors=11, weights=uniform;, score=0.986 total time=   4.7s\n",
      "[CV 5/5] END leaf_size=500, n_neighbors=11, weights=uniform;, score=0.986 total time=   4.7s\n",
      "[CV 1/5] END leaf_size=500, n_neighbors=11, weights=distance;, score=0.996 total time=   4.5s\n",
      "[CV 2/5] END leaf_size=500, n_neighbors=11, weights=distance;, score=0.995 total time=   4.4s\n",
      "[CV 3/5] END leaf_size=500, n_neighbors=11, weights=distance;, score=0.994 total time=   4.9s\n",
      "[CV 4/5] END leaf_size=500, n_neighbors=11, weights=distance;, score=0.995 total time=   4.7s\n",
      "[CV 5/5] END leaf_size=500, n_neighbors=11, weights=distance;, score=0.994 total time=   4.7s\n",
      "[CV 1/5] END leaf_size=500, n_neighbors=13, weights=uniform;, score=0.985 total time=   4.2s\n",
      "[CV 2/5] END leaf_size=500, n_neighbors=13, weights=uniform;, score=0.985 total time=   4.3s\n",
      "[CV 3/5] END leaf_size=500, n_neighbors=13, weights=uniform;, score=0.983 total time=   4.7s\n",
      "[CV 4/5] END leaf_size=500, n_neighbors=13, weights=uniform;, score=0.984 total time=   4.6s\n",
      "[CV 5/5] END leaf_size=500, n_neighbors=13, weights=uniform;, score=0.984 total time=   4.7s\n",
      "[CV 1/5] END leaf_size=500, n_neighbors=13, weights=distance;, score=0.995 total time=   4.4s\n",
      "[CV 2/5] END leaf_size=500, n_neighbors=13, weights=distance;, score=0.995 total time=   4.3s\n",
      "[CV 3/5] END leaf_size=500, n_neighbors=13, weights=distance;, score=0.994 total time=   4.7s\n",
      "[CV 4/5] END leaf_size=500, n_neighbors=13, weights=distance;, score=0.994 total time=   4.8s\n",
      "[CV 5/5] END leaf_size=500, n_neighbors=13, weights=distance;, score=0.994 total time=   4.8s\n",
      "[CV 1/5] END leaf_size=500, n_neighbors=15, weights=uniform;, score=0.981 total time=   4.3s\n",
      "[CV 2/5] END leaf_size=500, n_neighbors=15, weights=uniform;, score=0.982 total time=   4.4s\n",
      "[CV 3/5] END leaf_size=500, n_neighbors=15, weights=uniform;, score=0.981 total time=   4.7s\n",
      "[CV 4/5] END leaf_size=500, n_neighbors=15, weights=uniform;, score=0.982 total time=   4.6s\n",
      "[CV 5/5] END leaf_size=500, n_neighbors=15, weights=uniform;, score=0.981 total time=   4.6s\n",
      "[CV 1/5] END leaf_size=500, n_neighbors=15, weights=distance;, score=0.995 total time=   4.3s\n",
      "[CV 2/5] END leaf_size=500, n_neighbors=15, weights=distance;, score=0.995 total time=   4.4s\n",
      "[CV 3/5] END leaf_size=500, n_neighbors=15, weights=distance;, score=0.994 total time=   4.8s\n",
      "[CV 4/5] END leaf_size=500, n_neighbors=15, weights=distance;, score=0.994 total time=   4.7s\n",
      "[CV 5/5] END leaf_size=500, n_neighbors=15, weights=distance;, score=0.994 total time=   4.7s\n",
      "[CV 1/5] END leaf_size=500, n_neighbors=17, weights=uniform;, score=0.979 total time=   4.2s\n",
      "[CV 2/5] END leaf_size=500, n_neighbors=17, weights=uniform;, score=0.979 total time=   4.3s\n",
      "[CV 3/5] END leaf_size=500, n_neighbors=17, weights=uniform;, score=0.979 total time=   4.7s\n",
      "[CV 4/5] END leaf_size=500, n_neighbors=17, weights=uniform;, score=0.980 total time=   4.6s\n",
      "[CV 5/5] END leaf_size=500, n_neighbors=17, weights=uniform;, score=0.978 total time=   4.6s\n",
      "[CV 1/5] END leaf_size=500, n_neighbors=17, weights=distance;, score=0.995 total time=   4.3s\n",
      "[CV 2/5] END leaf_size=500, n_neighbors=17, weights=distance;, score=0.994 total time=   4.4s\n",
      "[CV 3/5] END leaf_size=500, n_neighbors=17, weights=distance;, score=0.993 total time=   4.8s\n",
      "[CV 4/5] END leaf_size=500, n_neighbors=17, weights=distance;, score=0.994 total time=   4.6s\n",
      "[CV 5/5] END leaf_size=500, n_neighbors=17, weights=distance;, score=0.993 total time=   4.7s\n",
      "[CV 1/5] END leaf_size=500, n_neighbors=19, weights=uniform;, score=0.977 total time=   4.2s\n",
      "[CV 2/5] END leaf_size=500, n_neighbors=19, weights=uniform;, score=0.977 total time=   4.2s\n",
      "[CV 3/5] END leaf_size=500, n_neighbors=19, weights=uniform;, score=0.977 total time=   4.7s\n",
      "[CV 4/5] END leaf_size=500, n_neighbors=19, weights=uniform;, score=0.976 total time=   4.5s\n",
      "[CV 5/5] END leaf_size=500, n_neighbors=19, weights=uniform;, score=0.976 total time=   4.6s\n",
      "[CV 1/5] END leaf_size=500, n_neighbors=19, weights=distance;, score=0.995 total time=   4.3s\n",
      "[CV 2/5] END leaf_size=500, n_neighbors=19, weights=distance;, score=0.994 total time=   4.4s\n",
      "[CV 3/5] END leaf_size=500, n_neighbors=19, weights=distance;, score=0.993 total time=   4.8s\n",
      "[CV 4/5] END leaf_size=500, n_neighbors=19, weights=distance;, score=0.994 total time=   4.7s\n",
      "[CV 5/5] END leaf_size=500, n_neighbors=19, weights=distance;, score=0.993 total time=   4.7s\n"
     ]
    },
    {
     "data": {
      "text/plain": "GridSearchCV(estimator=KNeighborsClassifier(),\n             param_grid={'leaf_size': [10, 50, 100, 500],\n                         'n_neighbors': [1, 3, 5, 7, 9, 11, 13, 15, 17, 19],\n                         'weights': ['uniform', 'distance']},\n             verbose=3)"
     },
     "execution_count": 26,
     "metadata": {},
     "output_type": "execute_result"
    }
   ],
   "source": [
    "# Fit the model by using the grid search estimator.\n",
    "# This will take the KNN model and try each combination of parameters.\n",
    "grid_clf.fit(X_train, y_train)"
   ],
   "metadata": {
    "collapsed": false,
    "pycharm": {
     "name": "#%%\n"
    }
   }
  },
  {
   "cell_type": "code",
   "execution_count": 27,
   "outputs": [
    {
     "ename": "NameError",
     "evalue": "name 'random_clf' is not defined",
     "output_type": "error",
     "traceback": [
      "\u001B[0;31m---------------------------------------------------------------------------\u001B[0m",
      "\u001B[0;31mNameError\u001B[0m                                 Traceback (most recent call last)",
      "Input \u001B[0;32mIn [27]\u001B[0m, in \u001B[0;36m<cell line: 2>\u001B[0;34m()\u001B[0m\n\u001B[1;32m      1\u001B[0m \u001B[38;5;66;03m# List the best parameters for this dataset\u001B[39;00m\n\u001B[0;32m----> 2\u001B[0m \u001B[38;5;28mprint\u001B[39m(random_clf\u001B[38;5;241m.\u001B[39mbest_params_)\n",
      "\u001B[0;31mNameError\u001B[0m: name 'random_clf' is not defined"
     ]
    }
   ],
   "source": [
    "# List the best parameters for this dataset\n",
    "print(random_clf.best_params_)"
   ],
   "metadata": {
    "collapsed": false,
    "pycharm": {
     "name": "#%%\n"
    }
   }
  },
  {
   "cell_type": "code",
   "execution_count": null,
   "outputs": [],
   "source": [
    "# List the best score\n",
    "print(random_clf.best_score_)"
   ],
   "metadata": {
    "collapsed": false,
    "pycharm": {
     "name": "#%%\n",
     "is_executing": true
    }
   }
  },
  {
   "cell_type": "code",
   "execution_count": null,
   "outputs": [],
   "source": [
    "# Make predictions with the hypertuned model\n",
    "predictions = random_clf.predict(X_test)"
   ],
   "metadata": {
    "collapsed": false,
    "pycharm": {
     "name": "#%%\n",
     "is_executing": true
    }
   }
  },
  {
   "cell_type": "code",
   "execution_count": null,
   "outputs": [],
   "source": [
    "# Calculate the classification report\n",
    "from sklearn.metrics import classification_report\n",
    "print(classification_report(y_test, predictions,\n",
    "                            target_names=target_names))"
   ],
   "metadata": {
    "collapsed": false,
    "pycharm": {
     "name": "#%%\n",
     "is_executing": true
    }
   }
  },
  {
   "cell_type": "code",
   "execution_count": null,
   "outputs": [],
   "source": [
    "from sklearn import metrics\n",
    "print('MAE:', metrics.mean_absolute_error(y_test, predictions))\n",
    "print('MSE:', metrics.mean_squared_error(y_test, predictions))\n",
    "print('RMSE:', np.sqrt(metrics.mean_squared_error(y_test,predictions)))"
   ],
   "metadata": {
    "collapsed": false,
    "pycharm": {
     "name": "#%%\n",
     "is_executing": true
    }
   }
  },
  {
   "cell_type": "code",
   "execution_count": null,
   "outputs": [],
   "source": [
    "# Scaling the X data by using StandardScaler()\n",
    "# scaler = StandardScaler().fit(X_train)\n",
    "# X_train_scaled = scaler.transform(X_train)\n",
    "# X_test = scaler.transform(X_test)\n",
    "# data = X_train, X_test, y_train, y_test"
   ],
   "metadata": {
    "collapsed": false,
    "pycharm": {
     "name": "#%%\n",
     "is_executing": true
    }
   }
  },
  {
   "cell_type": "code",
   "execution_count": null,
   "outputs": [],
   "source": [
    "data = X_train, X_test, y_train, y_test\n",
    "\n",
    "test_model(LinearRegression(), data)\n",
    "test_model(KNeighborsRegressor(), data)\n",
    "test_model(RandomForestRegressor(), data)\n",
    "test_model(ExtraTreesRegressor(), data)\n",
    "test_model(AdaBoostRegressor(), data)\n",
    "test_model(SVR(C=1.0, epsilon=0.2), data)"
   ],
   "metadata": {
    "collapsed": false,
    "pycharm": {
     "name": "#%%\n",
     "is_executing": true
    }
   }
  },
  {
   "cell_type": "code",
   "execution_count": null,
   "outputs": [],
   "source": [],
   "metadata": {
    "collapsed": false,
    "pycharm": {
     "name": "#%%\n",
     "is_executing": true
    }
   }
  }
 ],
 "metadata": {
  "kernelspec": {
   "display_name": "Python 3",
   "language": "python",
   "name": "python3"
  },
  "language_info": {
   "codemirror_mode": {
    "name": "ipython",
    "version": 2
   },
   "file_extension": ".py",
   "mimetype": "text/x-python",
   "name": "python",
   "nbconvert_exporter": "python",
   "pygments_lexer": "ipython2",
   "version": "2.7.6"
  }
 },
 "nbformat": 4,
 "nbformat_minor": 0
}