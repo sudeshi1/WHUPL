{
 "cells": [
  {
   "cell_type": "code",
   "execution_count": 3,
   "metadata": {
    "collapsed": true
   },
   "outputs": [],
   "source": [
    "import pandas as pd\n",
    "from sklearn.model_selection import train_test_split\n",
    "from sklearn.preprocessing import StandardScaler, MinMaxScaler, LabelEncoder\n",
    "import numpy as np\n",
    "from statistics import mode\n",
    "from fuzzywuzzy import fuzz"
   ]
  },
  {
   "cell_type": "code",
   "execution_count": 4,
   "outputs": [],
   "source": [
    "# import excel file and separate df by car make\n",
    "xls = pd.ExcelFile('../Resources/Car_Data.xlsx')\n",
    "df1 = pd.read_excel(xls, 'Volkswagon')\n",
    "# df2 = pd.read_excel(xls, 'Toyota')\n",
    "# df3 = pd.read_excel(xls, 'Porsche')\n",
    "# df4 = pd.read_excel(xls, 'Mercedes')\n",
    "# df5 = pd.read_excel(xls, 'Maserati')\n",
    "# df6 = pd.read_excel(xls, 'Lincoln')\n",
    "# df7 = pd.read_excel(xls, 'Lexus')\n",
    "# df8 = pd.read_excel(xls, 'Kia')\n",
    "# df9 = pd.read_excel(xls, 'Landrover')\n",
    "# df10 = pd.read_excel(xls, 'Volkswagon')\n",
    "# df11 = pd.read_excel(xls, 'Honda')\n",
    "# df12 = pd.read_excel(xls, 'Hyundai')\n",
    "# df13 = pd.read_excel(xls, 'Acura')\n",
    "# df14 = pd.read_excel(xls, 'Audi')\n",
    "# df15 = pd.read_excel(xls, 'BMW')"
   ],
   "metadata": {
    "collapsed": false,
    "pycharm": {
     "name": "#%%\n"
    }
   }
  },
  {
   "cell_type": "code",
   "execution_count": 5,
   "outputs": [],
   "source": [
    "def clean_data(df):\n",
    "    # drop null values\n",
    "    new_df = df.dropna(how='any')\n",
    "    # drop duplicates\n",
    "    new_df = new_df.drop_duplicates()\n",
    "    # reformat datetime to date_time object\n",
    "    new_df['formatted_sold_date'] = pd.to_datetime(new_df['sold_date'], format='%Y-%m-%d-%H.%M.%S.%f')\n",
    "    new_df['sold_date_year'] = new_df['formatted_sold_date'].dt.year\n",
    "    new_df['sold_date_month'] = new_df['formatted_sold_date'].dt.month\n",
    "    # drop unneeded columns (dc = drop columns)\n",
    "    dc_df = new_df.drop(columns=['sold_date', 'formatted_sold_date', 'subseries', 'make', 'transmission', 'seller'])\n",
    "\n",
    "    # replace condition grade text values with numbers\n",
    "    dc_df['condition_grade'] = dc_df['condition_grade'].replace(\n",
    "    {'SL': 0, 'RG': 20, 'PR': 10, 'EC':50, 'CL':40, 'C': 40, 'AV':30, 'A': 30, 'I0': 0})\n",
    "\n",
    "    return dc_df\n"
   ],
   "metadata": {
    "collapsed": false,
    "pycharm": {
     "name": "#%%\n"
    }
   }
  },
  {
   "cell_type": "code",
   "execution_count": 6,
   "outputs": [],
   "source": [
    "# df_list = {df1, df2, df3, df4, df5, df6, df7, df8, df9, df10, df11, df12, df13, df14, df15}\n",
    "#\n",
    "# for df in df_list:\n",
    "#     clean_[df] = clean_data(df)\n",
    "\n",
    "clean_df1 = clean_data(df1)"
   ],
   "metadata": {
    "collapsed": false,
    "pycharm": {
     "name": "#%%\n"
    }
   }
  },
  {
   "cell_type": "code",
   "execution_count": 7,
   "outputs": [],
   "source": [
    "# Generate our categorical variable lists\n",
    "car_cat = clean_df1.dtypes[clean_df1.dtypes == \"object\"].index.tolist()"
   ],
   "metadata": {
    "collapsed": false,
    "pycharm": {
     "name": "#%%\n"
    }
   }
  },
  {
   "cell_type": "code",
   "execution_count": 8,
   "outputs": [],
   "source": [
    "model_cnt = clean_df1[car_cat][\"model\"].value_counts()"
   ],
   "metadata": {
    "collapsed": false,
    "pycharm": {
     "name": "#%%\n"
    }
   }
  },
  {
   "cell_type": "code",
   "execution_count": 9,
   "outputs": [],
   "source": [
    "# Group cars models less than 100 into 'other' category\\n\",\n",
    "# Choose a cutoff value and create a list of application types to be replaced\\n\",\n",
    "# use the variable name `application_types_to_replace`\\n\",\n",
    "model_types_to_replace = list(model_cnt[model_cnt < 100].index)\n",
    "# Replace in dataframe\n",
    "for model in model_types_to_replace:\n",
    "    clean_df1['model'] = clean_df1['model'].replace(model,\"Other\")\n",
    "    clean_df1['model'] = clean_df1['model'].apply(str)\n"
   ],
   "metadata": {
    "collapsed": false,
    "pycharm": {
     "name": "#%%\n"
    }
   }
  },
  {
   "cell_type": "code",
   "execution_count": 10,
   "outputs": [],
   "source": [
    "# for each unique value in Description\n",
    "for d in clean_df1.model.unique():\n",
    "    # compute Levensthein distance\n",
    "    # and set to True if >= 70\n",
    "    # (you may have to play around with it)\n",
    "    clean_df1[d] = clean_df1['model'].apply(\n",
    "        lambda x : fuzz.ratio(x, d) >= 70\n",
    "    )\n",
    "        # set a name for the group\\n\",\n",
    "        # here, simply the shortest\\n\",\n",
    "    m = np.min(clean_df1[clean_df1[d]==True].model)\n",
    "    # assign the group\\n\",\n",
    "    clean_df1.loc[clean_df1.model==d, 'model_group'] = m"
   ],
   "metadata": {
    "collapsed": false,
    "pycharm": {
     "name": "#%%\n"
    }
   }
  },
  {
   "cell_type": "code",
   "execution_count": 11,
   "outputs": [],
   "source": [
    "color_cnt = clean_df1['color'].value_counts()"
   ],
   "metadata": {
    "collapsed": false,
    "pycharm": {
     "name": "#%%\n"
    }
   }
  },
  {
   "cell_type": "code",
   "execution_count": 12,
   "outputs": [],
   "source": [
    "# Choose a cutoff value and create a list of application types to be replaced\\n\",\n",
    "# use the variable name `application_types_to_replace`\\n\",\n",
    "color_types_to_replace = list(color_cnt[color_cnt < 10].index)\n",
    "# Replace in dataframe\n",
    "for color in color_types_to_replace:\n",
    "    clean_df1['color'] = clean_df1['color'].replace(color,\"Other\")"
   ],
   "metadata": {
    "collapsed": false,
    "pycharm": {
     "name": "#%%\n"
    }
   }
  },
  {
   "cell_type": "code",
   "execution_count": 13,
   "outputs": [],
   "source": [
    "for d in clean_df1.color.unique():\n",
    "    # clean_df1['color'] = clean_df1['color'].apply(str)\n",
    "    # compute Levensthein distance\n",
    "    # and set to True if >= a 30\n",
    "    # (you may have to play around with it)\n",
    "    clean_df1[d] = clean_df1['color'].apply(\n",
    "        lambda x : fuzz.ratio(x, d) >= 10\n",
    "    )\n",
    "    # set a name for the group\n",
    "    # here, simply the shortest\n",
    "    m = np.min(clean_df1[clean_df1[d]==True].color)\n",
    "    # assign the group\n",
    "    clean_df1.loc[clean_df1.color==d, 'color_group'] = m"
   ],
   "metadata": {
    "collapsed": false,
    "pycharm": {
     "name": "#%%\n"
    }
   }
  },
  {
   "cell_type": "code",
   "execution_count": 14,
   "outputs": [],
   "source": [
    "def binning_function(col, cut_points, labels=None):\n",
    "    minvalue = col.min()\n",
    "    maxvalue = col.max()\n",
    "    break_points = [minvalue] + cut_points + [maxvalue]\n",
    "    print(break_points)\n",
    "    if not labels:\n",
    "        labels = range(len(cut_points) + 1)\n",
    "    col_bin = pd.cut(col, bins=break_points, labels=labels, include_lowest=True)\n",
    "    return col_bin"
   ],
   "metadata": {
    "collapsed": false,
    "pycharm": {
     "name": "#%%\n"
    }
   }
  },
  {
   "cell_type": "code",
   "execution_count": 15,
   "outputs": [
    {
     "name": "stdout",
     "output_type": "stream",
     "text": [
      "[0.0, 25000, 50000, 75000, 100000, 999999.0]\n"
     ]
    }
   ],
   "source": [
    "cut_points = [25000, 50000, 75000, 100000]\n",
    "labels = ['< 25k', '25k - 50k', '50k - 75k', '75k - 100k', '> 100k']\n",
    "clean_df1['vehicle_mileage_category'] = binning_function(clean_df1['mileage'], cut_points, labels)"
   ],
   "metadata": {
    "collapsed": false,
    "pycharm": {
     "name": "#%%\n"
    }
   }
  },
  {
   "cell_type": "code",
   "execution_count": 16,
   "outputs": [
    {
     "data": {
      "text/plain": "  auction_code  car_year model_group color_group  body  \\\n1         AYCA      2009  TIGUAN 4X4       BEIGE   SUV   \n2         AYCA      2009      ROUTAN       BEIGE   VAN   \n3         AYCA      2014       JETTA       BLACK  4DSN   \n6         NADE      2012  TIGUAN 4X4       BEIGE   SUV   \n7         GOAA      2016      PASSAT       BEIGE  4DSN   \n\n  vehicle_mileage_category  condition_grade  times_run  sold_date_year  \\\n1               75k - 100k               34        1.0            2017   \n2               75k - 100k               31        1.0            2017   \n3                50k - 75k               27        1.0            2017   \n6               75k - 100k               38        6.0            2017   \n7                    < 25k               46        2.0            2017   \n\n   sold_date_month  sale_price  \n1                1      7100.0  \n2                1      5800.0  \n3                1      4500.0  \n6                1      8300.0  \n7                1     13800.0  ",
      "text/html": "<div>\n<style scoped>\n    .dataframe tbody tr th:only-of-type {\n        vertical-align: middle;\n    }\n\n    .dataframe tbody tr th {\n        vertical-align: top;\n    }\n\n    .dataframe thead th {\n        text-align: right;\n    }\n</style>\n<table border=\"1\" class=\"dataframe\">\n  <thead>\n    <tr style=\"text-align: right;\">\n      <th></th>\n      <th>auction_code</th>\n      <th>car_year</th>\n      <th>model_group</th>\n      <th>color_group</th>\n      <th>body</th>\n      <th>vehicle_mileage_category</th>\n      <th>condition_grade</th>\n      <th>times_run</th>\n      <th>sold_date_year</th>\n      <th>sold_date_month</th>\n      <th>sale_price</th>\n    </tr>\n  </thead>\n  <tbody>\n    <tr>\n      <th>1</th>\n      <td>AYCA</td>\n      <td>2009</td>\n      <td>TIGUAN 4X4</td>\n      <td>BEIGE</td>\n      <td>SUV</td>\n      <td>75k - 100k</td>\n      <td>34</td>\n      <td>1.0</td>\n      <td>2017</td>\n      <td>1</td>\n      <td>7100.0</td>\n    </tr>\n    <tr>\n      <th>2</th>\n      <td>AYCA</td>\n      <td>2009</td>\n      <td>ROUTAN</td>\n      <td>BEIGE</td>\n      <td>VAN</td>\n      <td>75k - 100k</td>\n      <td>31</td>\n      <td>1.0</td>\n      <td>2017</td>\n      <td>1</td>\n      <td>5800.0</td>\n    </tr>\n    <tr>\n      <th>3</th>\n      <td>AYCA</td>\n      <td>2014</td>\n      <td>JETTA</td>\n      <td>BLACK</td>\n      <td>4DSN</td>\n      <td>50k - 75k</td>\n      <td>27</td>\n      <td>1.0</td>\n      <td>2017</td>\n      <td>1</td>\n      <td>4500.0</td>\n    </tr>\n    <tr>\n      <th>6</th>\n      <td>NADE</td>\n      <td>2012</td>\n      <td>TIGUAN 4X4</td>\n      <td>BEIGE</td>\n      <td>SUV</td>\n      <td>75k - 100k</td>\n      <td>38</td>\n      <td>6.0</td>\n      <td>2017</td>\n      <td>1</td>\n      <td>8300.0</td>\n    </tr>\n    <tr>\n      <th>7</th>\n      <td>GOAA</td>\n      <td>2016</td>\n      <td>PASSAT</td>\n      <td>BEIGE</td>\n      <td>4DSN</td>\n      <td>&lt; 25k</td>\n      <td>46</td>\n      <td>2.0</td>\n      <td>2017</td>\n      <td>1</td>\n      <td>13800.0</td>\n    </tr>\n  </tbody>\n</table>\n</div>"
     },
     "execution_count": 16,
     "metadata": {},
     "output_type": "execute_result"
    }
   ],
   "source": [
    "clean_df1 = clean_df1[['auction_code', 'car_year', 'model_group', 'color_group', 'body', 'vehicle_mileage_category', 'condition_grade', 'times_run', 'sold_date_year', 'sold_date_month', 'sale_price', ]]\n",
    "clean_df1.head()"
   ],
   "metadata": {
    "collapsed": false,
    "pycharm": {
     "name": "#%%\n"
    }
   }
  },
  {
   "cell_type": "code",
   "execution_count": 3,
   "outputs": [],
   "source": [
    "# df = pd.concat([df1, df2, df3, df4, df5, df6, df7, df8, df9, df10, df11, df12, df13, df14, df15], ignore_index = True, sort = False)"
   ],
   "metadata": {
    "collapsed": false,
    "pycharm": {
     "name": "#%%\n"
    }
   }
  },
  {
   "cell_type": "code",
   "execution_count": 17,
   "outputs": [],
   "source": [
    "# write out csv's to output folder\n",
    "clean_df1.to_csv('../Output/Volkswagon.csv', index=False, header=True)\n",
    "# clean_df2.to_csv('../Output/Toyota.csv', index=False, header=True)\n",
    "# clean_df3.to_csv('../Output/Porsche.csv', index=False, header=True)\n",
    "# clean_df4.to_csv('../Output/Mercedes.csv', index=False, header=True)\n",
    "# clean_df5.to_csv('../Output/Maserati.csv', index=False, header=True)\n",
    "# clean_df6.to_csv('../Output/Lincoln.csv', index=False, header=True)\n",
    "# clean_df7.to_csv('../Output/Lexus.csv', index=False, header=True)"
   ],
   "metadata": {
    "collapsed": false,
    "pycharm": {
     "name": "#%%\n"
    }
   }
  },
  {
   "cell_type": "code",
   "execution_count": null,
   "outputs": [],
   "source": [],
   "metadata": {
    "collapsed": false,
    "pycharm": {
     "name": "#%%\n"
    }
   }
  }
 ],
 "metadata": {
  "kernelspec": {
   "display_name": "Python 3",
   "language": "python",
   "name": "python3"
  },
  "language_info": {
   "codemirror_mode": {
    "name": "ipython",
    "version": 2
   },
   "file_extension": ".py",
   "mimetype": "text/x-python",
   "name": "python",
   "nbconvert_exporter": "python",
   "pygments_lexer": "ipython2",
   "version": "2.7.6"
  }
 },
 "nbformat": 4,
 "nbformat_minor": 0
}