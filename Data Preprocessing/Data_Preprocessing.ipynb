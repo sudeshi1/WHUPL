{
 "cells": [
  {
   "cell_type": "code",
   "execution_count": null,
   "metadata": {
    "collapsed": true
   },
   "outputs": [],
   "source": [
    "import pandas as pd\\n\n",
    "from sklearn.model_selection import train_test_split\\n,\n",
    "from sklearn.preprocessing import StandardScaler, MinMaxScaler, LabelEncoder\\n,\n",
    "import numpy as np\\n,\n",
    "from statistics import mode\\n,\n",
    "import jellyfish\\n,\n",
    "from fuzzywuzzy import fuzz\\n,"
   ]
  },
  {
   "cell_type": "code",
   "execution_count": null,
   "outputs": [],
   "source": [
    "# import excel file and separate df by car make\\n\",\n",
    "    \"xls = pd.ExcelFile('../Resources/Car_Data.xlsx')\\n\",\n",
    "    \"df1 = pd.read_excel(xls, 'Volkswagon')\\n\",\n",
    "    \"df2 = pd.read_excel(xls, 'Toyota')\\n\",\n",
    "    \"df3 = pd.read_excel(xls, 'Porsche')\\n\",\n",
    "    \"df4 = pd.read_excel(xls, 'Mercedes')\\n\",\n",
    "    \"df5 = pd.read_excel(xls, 'Maserati')\\n\",\n",
    "    \"df6 = pd.read_excel(xls, 'Lincoln')\\n\",\n",
    "    \"df7 = pd.read_excel(xls, 'Lexus')\\n\",\n",
    "    \"# df8 = pd.read_excel(xls, 'Kia')\\n\",\n",
    "    \"# df9 = pd.read_excel(xls, 'Landrover')\\n\",\n",
    "    \"# df10 = pd.read_excel(xls, 'Volkswagon')\\n\",\n",
    "    \"# df11 = pd.read_excel(xls, 'Honda')\\n\",\n",
    "    \"# df12 = pd.read_excel(xls, 'Hyundai')\\n\",\n",
    "    \"# df13 = pd.read_excel(xls, 'Acura')\\n\",\n",
    "    \"# df14 = pd.read_excel(xls, 'Audi')\\n\",\n",
    "    \"# df15 = pd.read_excel(xls, 'BMW')\\n\""
   ],
   "metadata": {
    "collapsed": false,
    "pycharm": {
     "name": "#%%\n"
    }
   }
  },
  {
   "cell_type": "code",
   "execution_count": null,
   "outputs": [],
   "source": [
    "def clean_data(df):\\n\",\n",
    "    \"    # drop null values\\n\",\n",
    "    \"    new_df = df.dropna(how='any')\\n\",\n",
    "    \"    # drop duplicates\\n\",\n",
    "    \"    new_df = new_df.drop_duplicates()\\n\",\n",
    "    \"    # reformat datetime to date_time object\\n\",\n",
    "    \"    new_df['formatted_sold_date'] = pd.to_datetime(new_df['sold_date'], format='%Y-%m-%d-%H.%M.%S.%f')\\n\",\n",
    "    \"    new_df['sold_date_year'] = new_df['formatted_sold_date'].dt.year\\n\",\n",
    "    \"    new_df['sold_date_month'] = new_df['formatted_sold_date'].dt.month\\n\",\n",
    "    \"\\n\",\n",
    "    \"    # drop unneeded columns (dc = drop columns)\\n\",\n",
    "    \"    dc_df = new_df.drop(columns=['sold_date', 'formatted_sold_date', 'subseries', 'make', 'transmission', 'seller'])\\n\",\n",
    "    \"\\n\",\n",
    "    \"    # replace condition grade text values with numbers\\n\",\n",
    "    \"    dc_df['condition_grade'] = dc_df['condition_grade'].replace(\\n\",\n",
    "    \"    {'SL': 0, 'RG': 20, 'PR': 10, 'EC':50, 'CL':40, 'C': 40, 'AV':30, 'A': 30})\\n\",\n",
    "    \"########################## convert colors ##########################\\n\",\n",
    "    \"    # reorganize columns\\n\",\n",
    "    \"    # new_df = dc_df[['auction_code', 'car_year', 'model_group', 'color_group', 'body', 'mileage', 'condition_grade', 'times_run', 'sale_price', 'sold_date_year', 'sold_date_month' ]]\\n\",\n",
    "    \"\\n\",\n",
    "    \"    # # copy dataframe\\n\",\n",
    "    \"    # copy = new_df.copy(deep=False)\\n\",\n",
    "    \"\\n\",\n",
    "    \"    # return new_df\\n\",\n",
    "    \"    return dc_df\\n\",\n",
    "    \"\\n\",\n",
    "    \"# def binning_function(col, cut_points, labels=None):\\n\",\n",
    "    \"#     minvalue = col.min()\\n\",\n",
    "    \"#     maxvalue = col.max()\\n\",\n",
    "    \"#     break_points = [minvalue] + cut_points + [maxvalue]\\n\",\n",
    "    \"#     print(break_points)\\n\",\n",
    "    \"#     if not labels:\\n\",\n",
    "    \"#         labels = range(len(cut_points) + 1)\\n\",\n",
    "    \"#     col_bin = pd.cut(col, bins=break_points, labels=labels, include_lowest=True)\\n\",\n",
    "    \"#     return col_bin\\n\",\n",
    "    \"#\\n\",\n",
    "    \"#\\n\",\n",
    "    \"# cut_points = [25000, 50000, 75000, 100000]\\n\",\n",
    "    \"# labels = ['< 25k', '25k - 50k', '50k - 75k', '75k - 100k', '> 100k']\\n\",\n",
    "    \"# new_df['vehicle_mileage_category'] = binning_function(new_df['mileage'], cut_points, labels)\\n\",\n",
    "    \"# new_df\""
   ],
   "metadata": {
    "collapsed": false,
    "pycharm": {
     "name": "#%%\n"
    }
   }
  },
  {
   "cell_type": "code",
   "execution_count": null,
   "outputs": [],
   "source": [
    "# # for each unique value in Description\\n\",\n",
    "    \"# def make_models(df):\\n\",\n",
    "    \"#     for d in df.model.unique():\\n\",\n",
    "    \"#         # df[d]\\n\",\n",
    "    \"#         # convert to string\\n\",\n",
    "    \"#     # compute Levensthein distance\\n\",\n",
    "    \"#     # and set to True if >= a 80\\n\",\n",
    "    \"#     # (you may have to play around with it)\\n\",\n",
    "    \"#         df[d] = df['model'].apply(\\n\",\n",
    "    \"#             lambda x : fuzz.ratio(x, d) >= 70\\n\",\n",
    "    \"#                 )\\n\",\n",
    "    \"#     # set a name for the group\\n\",\n",
    "    \"#     # here, simply the shortest\\n\",\n",
    "    \"#     m = np.min(df[df[d]==True].model)\\n\",\n",
    "    \"#     # assign the group\\n\",\n",
    "    \"#     df.loc[df.model==d, 'model_group'] = m\\n\""
   ],
   "metadata": {
    "collapsed": false,
    "pycharm": {
     "name": "#%%\n"
    }
   }
  },
  {
   "cell_type": "code",
   "execution_count": null,
   "outputs": [],
   "source": [
    "def create_colors(df):\\n\",\n",
    "    \"#     # for each unique value in Description\\n\",\n",
    "    \"#     for i in df.color:\\n\",\n",
    "    \"#         # compute Levensthein distance\\n\",\n",
    "    \"#         # and set to True if >= a 40\\n\",\n",
    "    \"#         # (you may have to play around with it)\\n\",\n",
    "    \"#         df[i] = df['color'].apply(\\n\",\n",
    "    \"#             lambda x : fuzz.ratio(x, i) >= 30\\n\",\n",
    "    \"#             )\\n\",\n",
    "    \"#     # set a name for the group\\n\",\n",
    "    \"#     # here, simply the shortest\\n\",\n",
    "    \"#     m2 = np.min(df[df[i]==True].color)\\n\",\n",
    "    \"#     # assign the group\\n\",\n",
    "    \"#     df.loc[df.color==i, 'color_group'] = m2\\n\",\n",
    "    \"#\\n\",\n",
    "    \"#     return df"
   ],
   "metadata": {
    "collapsed": false,
    "pycharm": {
     "name": "#%%\n"
    }
   }
  },
  {
   "cell_type": "code",
   "execution_count": null,
   "outputs": [],
   "source": [
    "def create_other_color(df):\\n\",\n",
    "    \"#     # Choose a cutoff value and create a list of application types to be replaced\\n\",\n",
    "    \"#     # use the variable name `application_types_to_replace`\\n\",\n",
    "    \"#     # group colors\\n\",\n",
    "    \"#     color_cnt = df['color'].value_counts()\\n\",\n",
    "    \"#     color_types_to_replace = list(color_cnt[color_cnt < 50].index)\\n\",\n",
    "    \"#\\n\",\n",
    "    \"#     # Replace in dataframe\\n\",\n",
    "    \"#     for color in color_types_to_replace:\\n\",\n",
    "    \"#         # convert color to string\\n\",\n",
    "    \"#         df['color'] = df['color'].replace(color,\\\"Other\\\")\\n\",\n",
    "    \"#         df['color'] = df['color'].apply(str)\\n\",\n",
    "    \"#\\n\",\n",
    "    \"#     return df"
   ],
   "metadata": {
    "collapsed": false,
    "pycharm": {
     "name": "#%%\n"
    }
   }
  },
  {
   "cell_type": "code",
   "execution_count": null,
   "outputs": [],
   "source": [
    "# def create_other_model(df):\\n\",\n",
    "    \"#      # Group cars models less than 100 into 'other' category\\n\",\n",
    "    \"#     # Choose a cutoff value and create a list of application types to be replaced\\n\",\n",
    "    \"#     # use the variable name `application_types_to_replace`\\n\",\n",
    "    \"#     model_cnt = df[\\\"model\\\"].value_counts()\\n\",\n",
    "    \"#     model_types_to_replace = list(model_cnt[model_cnt < 100].index)\\n\",\n",
    "    \"#\\n\",\n",
    "    \"#     # Replace in dataframe\\n\",\n",
    "    \"#     for model in model_types_to_replace:\\n\",\n",
    "    \"#         df['model'] = df['model'].replace(model,\\\"Other\\\")\\n\",\n",
    "    \"#         df['model'] = df['model'].apply(str)\\n\",\n",
    "    \"#\\n\",\n",
    "    \"#\\n\",\n",
    "    \"#     return df\""
   ],
   "metadata": {
    "collapsed": false,
    "pycharm": {
     "name": "#%%\n"
    }
   }
  },
  {
   "cell_type": "code",
   "execution_count": null,
   "outputs": [],
   "source": [],
   "metadata": {
    "collapsed": false,
    "pycharm": {
     "name": "#%%\n"
    }
   }
  },
  {
   "cell_type": "code",
   "execution_count": null,
   "outputs": [],
   "source": [],
   "metadata": {
    "collapsed": false,
    "pycharm": {
     "name": "#%%\n"
    }
   }
  },
  {
   "cell_type": "code",
   "execution_count": null,
   "outputs": [],
   "source": [],
   "metadata": {
    "collapsed": false,
    "pycharm": {
     "name": "#%%\n"
    }
   }
  },
  {
   "cell_type": "code",
   "execution_count": null,
   "outputs": [],
   "source": [],
   "metadata": {
    "collapsed": false,
    "pycharm": {
     "name": "#%%\n"
    }
   }
  },
  {
   "cell_type": "code",
   "execution_count": null,
   "outputs": [],
   "source": [],
   "metadata": {
    "collapsed": false,
    "pycharm": {
     "name": "#%%\n"
    }
   }
  },
  {
   "cell_type": "code",
   "execution_count": null,
   "outputs": [],
   "source": [],
   "metadata": {
    "collapsed": false,
    "pycharm": {
     "name": "#%%\n"
    }
   }
  },
  {
   "cell_type": "code",
   "execution_count": null,
   "outputs": [],
   "source": [],
   "metadata": {
    "collapsed": false,
    "pycharm": {
     "name": "#%%\n"
    }
   }
  }
 ],
 "metadata": {
  "kernelspec": {
   "display_name": "Python 3",
   "language": "python",
   "name": "python3"
  },
  "language_info": {
   "codemirror_mode": {
    "name": "ipython",
    "version": 2
   },
   "file_extension": ".py",
   "mimetype": "text/x-python",
   "name": "python",
   "nbconvert_exporter": "python",
   "pygments_lexer": "ipython2",
   "version": "2.7.6"
  }
 },
 "nbformat": 4,
 "nbformat_minor": 0
}